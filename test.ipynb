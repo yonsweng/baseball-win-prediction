{
 "metadata": {
  "language_info": {
   "codemirror_mode": {
    "name": "ipython",
    "version": 3
   },
   "file_extension": ".py",
   "mimetype": "text/x-python",
   "name": "python",
   "nbconvert_exporter": "python",
   "pygments_lexer": "ipython3",
   "version": "3.9.4"
  },
  "orig_nbformat": 2,
  "kernelspec": {
   "name": "python3",
   "display_name": "Python 3.9.4  ('venv': venv)"
  },
  "metadata": {
   "interpreter": {
    "hash": "6732a3cbca865797fb7272f12aa3145451bacded4d4671888943b3279c0b93c6"
   }
  },
  "interpreter": {
   "hash": "6732a3cbca865797fb7272f12aa3145451bacded4d4671888943b3279c0b93c6"
  }
 },
 "nbformat": 4,
 "nbformat_minor": 2,
 "cells": [
  {
   "cell_type": "code",
   "execution_count": 2,
   "metadata": {},
   "outputs": [
    {
     "output_type": "stream",
     "name": "stdout",
     "text": [
      "191835\n",
      "130133 32501\n",
      "130048 32586\n",
      "130211 32423\n",
      "130184 32450\n",
      "129960 32674\n"
     ]
    }
   ],
   "source": [
    "import pandas as pd\n",
    "\n",
    "df = pd.read_csv('input/mlbplaybyplay2010s/all2010.csv', low_memory=False)\n",
    "print(len(df))\n",
    "\n",
    "for i in range(5):\n",
    "    train = pd.read_csv(f'input/mlbplaybyplay2010s_preprocessed/all2010_train_{i}.csv', low_memory=False)\n",
    "    valid = pd.read_csv(f'input/mlbplaybyplay2010s_preprocessed/all2010_valid_{i}.csv', low_memory=False)\n",
    "    print(len(train), len(valid))"
   ]
  },
  {
   "cell_type": "code",
   "execution_count": null,
   "metadata": {},
   "outputs": [],
   "source": []
  }
 ]
}