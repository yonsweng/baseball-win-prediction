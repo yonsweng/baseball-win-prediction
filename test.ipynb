{
 "metadata": {
  "language_info": {
   "codemirror_mode": {
    "name": "ipython",
    "version": 3
   },
   "file_extension": ".py",
   "mimetype": "text/x-python",
   "name": "python",
   "nbconvert_exporter": "python",
   "pygments_lexer": "ipython3",
   "version": "3.9.4"
  },
  "orig_nbformat": 2,
  "kernelspec": {
   "name": "python3",
   "display_name": "Python 3.9.4  ('venv': venv)"
  },
  "metadata": {
   "interpreter": {
    "hash": "6732a3cbca865797fb7272f12aa3145451bacded4d4671888943b3279c0b93c6"
   }
  },
  "interpreter": {
   "hash": "6732a3cbca865797fb7272f12aa3145451bacded4d4671888943b3279c0b93c6"
  }
 },
 "nbformat": 4,
 "nbformat_minor": 2,
 "cells": [
  {
   "cell_type": "code",
   "execution_count": 3,
   "metadata": {},
   "outputs": [
    {
     "output_type": "execute_result",
     "data": {
      "text/plain": [
       "             GAME_ID AWAY_TEAM_ID  INN_CT  BAT_HOME_ID  OUTS_CT  BALLS_CT  \\\n",
       "0       ANA201004050          MIN       1            0        0         2   \n",
       "1       ANA201004050          MIN       1            0        1         0   \n",
       "2       ANA201004050          MIN       1            0        2         1   \n",
       "3       ANA201004050          MIN       1            1        0         3   \n",
       "4       ANA201004050          MIN       1            1        0         0   \n",
       "...              ...          ...     ...          ...      ...       ...   \n",
       "191830  WAS201009290          PHI       9            0        1         1   \n",
       "191831  WAS201009290          PHI       9            0        2         1   \n",
       "191832  WAS201009290          PHI       9            1        0         2   \n",
       "191833  WAS201009290          PHI       9            1        1         0   \n",
       "191834  WAS201009290          PHI       9            1        2         2   \n",
       "\n",
       "        STRIKES_CT PITCH_SEQ_TX  AWAY_SCORE_CT  HOME_SCORE_CT  ...  \\\n",
       "0                2     CSBFFBFC              0              0  ...   \n",
       "1                1           FX              0              0  ...   \n",
       "2                1          CBX              0              0  ...   \n",
       "3                2   BBCCFBFFFB              0              0  ...   \n",
       "4                1           CX              0              0  ...   \n",
       "...            ...          ...            ...            ...  ...   \n",
       "191830           2         CSBC              7              1  ...   \n",
       "191831           2        .CCBX              7              1  ...   \n",
       "191832           2       .SBSBS              7              1  ...   \n",
       "191833           2          FCX              7              1  ...   \n",
       "191834           2        BCBCX              7              1  ...   \n",
       "\n",
       "       REMOVED_FOR_PH_BAT_FLD_CD PO1_FLD_CD PO2_FLD_CD PO3_FLD_CD ASS1_FLD_CD  \\\n",
       "0                              0          2          0          0           0   \n",
       "1                              0          3          0          0           4   \n",
       "2                              0          3          0          0           4   \n",
       "3                              0          0          0          0           0   \n",
       "4                              0          8          0          0           0   \n",
       "...                          ...        ...        ...        ...         ...   \n",
       "191830                         0          2          0          0           0   \n",
       "191831                         1          3          0          0           5   \n",
       "191832                         0          2          0          0           0   \n",
       "191833                         0          9          0          0           0   \n",
       "191834                         0          8          0          0           0   \n",
       "\n",
       "       ASS2_FLD_CD ASS3_FLD_CD ASS4_FLD_CD ASS5_FLD_CD EVENT_ID  \n",
       "0                0           0           0           0        1  \n",
       "1                0           0           0           0        2  \n",
       "2                0           0           0           0        3  \n",
       "3                0           0           0           0        4  \n",
       "4                0           0           0           0        5  \n",
       "...            ...         ...         ...         ...      ...  \n",
       "191830           0           0           0           0       65  \n",
       "191831           0           0           0           0       66  \n",
       "191832           0           0           0           0       67  \n",
       "191833           0           0           0           0       68  \n",
       "191834           0           0           0           0       69  \n",
       "\n",
       "[191835 rows x 97 columns]"
      ],
      "text/html": "<div>\n<style scoped>\n    .dataframe tbody tr th:only-of-type {\n        vertical-align: middle;\n    }\n\n    .dataframe tbody tr th {\n        vertical-align: top;\n    }\n\n    .dataframe thead th {\n        text-align: right;\n    }\n</style>\n<table border=\"1\" class=\"dataframe\">\n  <thead>\n    <tr style=\"text-align: right;\">\n      <th></th>\n      <th>GAME_ID</th>\n      <th>AWAY_TEAM_ID</th>\n      <th>INN_CT</th>\n      <th>BAT_HOME_ID</th>\n      <th>OUTS_CT</th>\n      <th>BALLS_CT</th>\n      <th>STRIKES_CT</th>\n      <th>PITCH_SEQ_TX</th>\n      <th>AWAY_SCORE_CT</th>\n      <th>HOME_SCORE_CT</th>\n      <th>...</th>\n      <th>REMOVED_FOR_PH_BAT_FLD_CD</th>\n      <th>PO1_FLD_CD</th>\n      <th>PO2_FLD_CD</th>\n      <th>PO3_FLD_CD</th>\n      <th>ASS1_FLD_CD</th>\n      <th>ASS2_FLD_CD</th>\n      <th>ASS3_FLD_CD</th>\n      <th>ASS4_FLD_CD</th>\n      <th>ASS5_FLD_CD</th>\n      <th>EVENT_ID</th>\n    </tr>\n  </thead>\n  <tbody>\n    <tr>\n      <th>0</th>\n      <td>ANA201004050</td>\n      <td>MIN</td>\n      <td>1</td>\n      <td>0</td>\n      <td>0</td>\n      <td>2</td>\n      <td>2</td>\n      <td>CSBFFBFC</td>\n      <td>0</td>\n      <td>0</td>\n      <td>...</td>\n      <td>0</td>\n      <td>2</td>\n      <td>0</td>\n      <td>0</td>\n      <td>0</td>\n      <td>0</td>\n      <td>0</td>\n      <td>0</td>\n      <td>0</td>\n      <td>1</td>\n    </tr>\n    <tr>\n      <th>1</th>\n      <td>ANA201004050</td>\n      <td>MIN</td>\n      <td>1</td>\n      <td>0</td>\n      <td>1</td>\n      <td>0</td>\n      <td>1</td>\n      <td>FX</td>\n      <td>0</td>\n      <td>0</td>\n      <td>...</td>\n      <td>0</td>\n      <td>3</td>\n      <td>0</td>\n      <td>0</td>\n      <td>4</td>\n      <td>0</td>\n      <td>0</td>\n      <td>0</td>\n      <td>0</td>\n      <td>2</td>\n    </tr>\n    <tr>\n      <th>2</th>\n      <td>ANA201004050</td>\n      <td>MIN</td>\n      <td>1</td>\n      <td>0</td>\n      <td>2</td>\n      <td>1</td>\n      <td>1</td>\n      <td>CBX</td>\n      <td>0</td>\n      <td>0</td>\n      <td>...</td>\n      <td>0</td>\n      <td>3</td>\n      <td>0</td>\n      <td>0</td>\n      <td>4</td>\n      <td>0</td>\n      <td>0</td>\n      <td>0</td>\n      <td>0</td>\n      <td>3</td>\n    </tr>\n    <tr>\n      <th>3</th>\n      <td>ANA201004050</td>\n      <td>MIN</td>\n      <td>1</td>\n      <td>1</td>\n      <td>0</td>\n      <td>3</td>\n      <td>2</td>\n      <td>BBCCFBFFFB</td>\n      <td>0</td>\n      <td>0</td>\n      <td>...</td>\n      <td>0</td>\n      <td>0</td>\n      <td>0</td>\n      <td>0</td>\n      <td>0</td>\n      <td>0</td>\n      <td>0</td>\n      <td>0</td>\n      <td>0</td>\n      <td>4</td>\n    </tr>\n    <tr>\n      <th>4</th>\n      <td>ANA201004050</td>\n      <td>MIN</td>\n      <td>1</td>\n      <td>1</td>\n      <td>0</td>\n      <td>0</td>\n      <td>1</td>\n      <td>CX</td>\n      <td>0</td>\n      <td>0</td>\n      <td>...</td>\n      <td>0</td>\n      <td>8</td>\n      <td>0</td>\n      <td>0</td>\n      <td>0</td>\n      <td>0</td>\n      <td>0</td>\n      <td>0</td>\n      <td>0</td>\n      <td>5</td>\n    </tr>\n    <tr>\n      <th>...</th>\n      <td>...</td>\n      <td>...</td>\n      <td>...</td>\n      <td>...</td>\n      <td>...</td>\n      <td>...</td>\n      <td>...</td>\n      <td>...</td>\n      <td>...</td>\n      <td>...</td>\n      <td>...</td>\n      <td>...</td>\n      <td>...</td>\n      <td>...</td>\n      <td>...</td>\n      <td>...</td>\n      <td>...</td>\n      <td>...</td>\n      <td>...</td>\n      <td>...</td>\n      <td>...</td>\n    </tr>\n    <tr>\n      <th>191830</th>\n      <td>WAS201009290</td>\n      <td>PHI</td>\n      <td>9</td>\n      <td>0</td>\n      <td>1</td>\n      <td>1</td>\n      <td>2</td>\n      <td>CSBC</td>\n      <td>7</td>\n      <td>1</td>\n      <td>...</td>\n      <td>0</td>\n      <td>2</td>\n      <td>0</td>\n      <td>0</td>\n      <td>0</td>\n      <td>0</td>\n      <td>0</td>\n      <td>0</td>\n      <td>0</td>\n      <td>65</td>\n    </tr>\n    <tr>\n      <th>191831</th>\n      <td>WAS201009290</td>\n      <td>PHI</td>\n      <td>9</td>\n      <td>0</td>\n      <td>2</td>\n      <td>1</td>\n      <td>2</td>\n      <td>.CCBX</td>\n      <td>7</td>\n      <td>1</td>\n      <td>...</td>\n      <td>1</td>\n      <td>3</td>\n      <td>0</td>\n      <td>0</td>\n      <td>5</td>\n      <td>0</td>\n      <td>0</td>\n      <td>0</td>\n      <td>0</td>\n      <td>66</td>\n    </tr>\n    <tr>\n      <th>191832</th>\n      <td>WAS201009290</td>\n      <td>PHI</td>\n      <td>9</td>\n      <td>1</td>\n      <td>0</td>\n      <td>2</td>\n      <td>2</td>\n      <td>.SBSBS</td>\n      <td>7</td>\n      <td>1</td>\n      <td>...</td>\n      <td>0</td>\n      <td>2</td>\n      <td>0</td>\n      <td>0</td>\n      <td>0</td>\n      <td>0</td>\n      <td>0</td>\n      <td>0</td>\n      <td>0</td>\n      <td>67</td>\n    </tr>\n    <tr>\n      <th>191833</th>\n      <td>WAS201009290</td>\n      <td>PHI</td>\n      <td>9</td>\n      <td>1</td>\n      <td>1</td>\n      <td>0</td>\n      <td>2</td>\n      <td>FCX</td>\n      <td>7</td>\n      <td>1</td>\n      <td>...</td>\n      <td>0</td>\n      <td>9</td>\n      <td>0</td>\n      <td>0</td>\n      <td>0</td>\n      <td>0</td>\n      <td>0</td>\n      <td>0</td>\n      <td>0</td>\n      <td>68</td>\n    </tr>\n    <tr>\n      <th>191834</th>\n      <td>WAS201009290</td>\n      <td>PHI</td>\n      <td>9</td>\n      <td>1</td>\n      <td>2</td>\n      <td>2</td>\n      <td>2</td>\n      <td>BCBCX</td>\n      <td>7</td>\n      <td>1</td>\n      <td>...</td>\n      <td>0</td>\n      <td>8</td>\n      <td>0</td>\n      <td>0</td>\n      <td>0</td>\n      <td>0</td>\n      <td>0</td>\n      <td>0</td>\n      <td>0</td>\n      <td>69</td>\n    </tr>\n  </tbody>\n</table>\n<p>191835 rows × 97 columns</p>\n</div>"
     },
     "metadata": {},
     "execution_count": 3
    }
   ],
   "source": [
    "import pandas as pd\n",
    "\n",
    "df = pd.read_csv('input/mlbplaybyplay2010s/all2010.csv', low_memory=False)\n",
    "df"
   ]
  },
  {
   "cell_type": "code",
   "execution_count": 8,
   "metadata": {},
   "outputs": [
    {
     "output_type": "execute_result",
     "data": {
      "text/plain": [
       "Empty DataFrame\n",
       "Columns: [GAME_ID, AWAY_TEAM_ID, INN_CT, BAT_HOME_ID, OUTS_CT, BALLS_CT, STRIKES_CT, PITCH_SEQ_TX, AWAY_SCORE_CT, HOME_SCORE_CT, BAT_ID, BAT_HAND_CD, RESP_BAT_ID, RESP_BAT_HAND_CD, PIT_ID, PIT_HAND_CD, RESP_PIT_ID, RESP_PIT_HAND_CD, POS2_FLD_ID, POS3_FLD_ID, POS4_FLD_ID, POS5_FLD_ID, POS6_FLD_ID, POS7_FLD_ID, POS8_FLD_ID, POS9_FLD_ID, BASE1_RUN_ID, BASE2_RUN_ID, BASE3_RUN_ID, EVENT_TX, LEADOFF_FL, PH_FL, BAT_FLD_CD, BAT_LINEUP_ID, EVENT_CD, BAT_EVENT_FL, AB_FL, H_FL, SH_FL, SF_FL, EVENT_OUTS_CT, DP_FL, TP_FL, RBI_CT, WP_FL, PB_FL, FLD_CD, BATTEDBALL_CD, BUNT_FL, FOUL_FL, BATTEDBALL_LOC_TX, ERR_CT, ERR1_FLD_CD, ERR1_CD, ERR2_FLD_CD, ERR2_CD, ERR3_FLD_CD, ERR3_CD, BAT_DEST_ID, RUN1_DEST_ID, RUN2_DEST_ID, RUN3_DEST_ID, BAT_PLAY_TX, RUN1_PLAY_TX, RUN2_PLAY_TX, RUN3_PLAY_TX, RUN1_SB_FL, RUN2_SB_FL, RUN3_SB_FL, RUN1_CS_FL, RUN2_CS_FL, RUN3_CS_FL, RUN1_PK_FL, RUN2_PK_FL, RUN3_PK_FL, RUN1_RESP_PIT_ID, RUN2_RESP_PIT_ID, RUN3_RESP_PIT_ID, GAME_NEW_FL, GAME_END_FL, PR_RUN1_FL, PR_RUN2_FL, PR_RUN3_FL, REMOVED_FOR_PR_RUN1_ID, REMOVED_FOR_PR_RUN2_ID, REMOVED_FOR_PR_RUN3_ID, REMOVED_FOR_PH_BAT_ID, REMOVED_FOR_PH_BAT_FLD_CD, PO1_FLD_CD, PO2_FLD_CD, PO3_FLD_CD, ASS1_FLD_CD, ASS2_FLD_CD, ASS3_FLD_CD, ASS4_FLD_CD, ASS5_FLD_CD, EVENT_ID]\n",
       "Index: []\n",
       "\n",
       "[0 rows x 97 columns]"
      ],
      "text/html": "<div>\n<style scoped>\n    .dataframe tbody tr th:only-of-type {\n        vertical-align: middle;\n    }\n\n    .dataframe tbody tr th {\n        vertical-align: top;\n    }\n\n    .dataframe thead th {\n        text-align: right;\n    }\n</style>\n<table border=\"1\" class=\"dataframe\">\n  <thead>\n    <tr style=\"text-align: right;\">\n      <th></th>\n      <th>GAME_ID</th>\n      <th>AWAY_TEAM_ID</th>\n      <th>INN_CT</th>\n      <th>BAT_HOME_ID</th>\n      <th>OUTS_CT</th>\n      <th>BALLS_CT</th>\n      <th>STRIKES_CT</th>\n      <th>PITCH_SEQ_TX</th>\n      <th>AWAY_SCORE_CT</th>\n      <th>HOME_SCORE_CT</th>\n      <th>...</th>\n      <th>REMOVED_FOR_PH_BAT_FLD_CD</th>\n      <th>PO1_FLD_CD</th>\n      <th>PO2_FLD_CD</th>\n      <th>PO3_FLD_CD</th>\n      <th>ASS1_FLD_CD</th>\n      <th>ASS2_FLD_CD</th>\n      <th>ASS3_FLD_CD</th>\n      <th>ASS4_FLD_CD</th>\n      <th>ASS5_FLD_CD</th>\n      <th>EVENT_ID</th>\n    </tr>\n  </thead>\n  <tbody>\n  </tbody>\n</table>\n<p>0 rows × 97 columns</p>\n</div>"
     },
     "metadata": {},
     "execution_count": 8
    }
   ],
   "source": [
    "df[(df['GAME_END_FL'] == 'T') & (df['INN_CT'] == 1)]"
   ]
  },
  {
   "cell_type": "code",
   "execution_count": null,
   "metadata": {},
   "outputs": [],
   "source": []
  }
 ]
}