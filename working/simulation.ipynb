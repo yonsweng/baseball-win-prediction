{
 "cells": [
  {
   "cell_type": "code",
   "execution_count": 1,
   "metadata": {},
   "outputs": [],
   "source": [
    "import pandas as pd\n",
    "import numpy as np\n",
    "import random\n",
    "from multiprocessing import Process, Manager\n",
    "from itertools import repeat\n",
    "from tqdm import trange"
   ]
  },
  {
   "cell_type": "code",
   "execution_count": 2,
   "metadata": {},
   "outputs": [],
   "source": [
    "data = pd.read_csv('../input/mlbplaybyplay2010s/all2018.csv', low_memory=False)"
   ]
  },
  {
   "cell_type": "code",
   "execution_count": 3,
   "metadata": {},
   "outputs": [],
   "source": [
    "# 타석 데이터만 남기기.\n",
    "pa_events = [2, 3, 14, 15, 16, 17, 18, 19, 20, 21, 22, 23]\n",
    "data = data[data['EVENT_CD'].isin(pa_events)].reset_index(drop=True)"
   ]
  },
  {
   "cell_type": "markdown",
   "metadata": {},
   "source": [
    "# Transition matrix 구하기"
   ]
  },
  {
   "cell_type": "code",
   "execution_count": 4,
   "metadata": {},
   "outputs": [],
   "source": [
    "# Add Columns.\n",
    "data['BASE1_RUN_FL'] = data['BASE1_RUN_ID'].notna()\n",
    "data['BASE2_RUN_FL'] = data['BASE2_RUN_ID'].notna()\n",
    "data['BASE3_RUN_FL'] = data['BASE3_RUN_ID'].notna()\n",
    "data['HOME_TEAM_ID'] = data.apply(lambda row: row.GAME_ID[:3], axis=1)\n",
    "\n",
    "# 초반, 후반 데이터 나누기.\n",
    "n_games = sum(data.GAME_NEW_FL == 'T')  # 게임 수\n",
    "train = data[data.GAME_ID.isin(data.GAME_ID.unique()[:n_games//2])]  # 전반기\n",
    "test = data[data.GAME_ID.isin(data.GAME_ID.unique()[n_games//2:])]  # 후반기"
   ]
  },
  {
   "cell_type": "code",
   "execution_count": 5,
   "metadata": {},
   "outputs": [],
   "source": [
    "# state_action_cnt: 한 state에서 어떤 action을 하는 경우의 수\n",
    "state_action_cnt = train.groupby(['OUTS_CT', 'BASE1_RUN_FL', 'BASE2_RUN_FL', 'BASE3_RUN_FL'])['EVENT_CD'].value_counts()\n",
    "\n",
    "# result_cnt: 한 (state, action)에서 어떤 result로 가는 경우의 수\n",
    "result_cnt = pd.pivot_table(train, values='EVENT_ID', index=['OUTS_CT', 'BASE1_RUN_FL', 'BASE2_RUN_FL', 'BASE3_RUN_FL', 'EVENT_CD'], columns=['EVENT_OUTS_CT', 'BAT_DEST_ID', 'RUN1_DEST_ID', 'RUN2_DEST_ID', 'RUN3_DEST_ID'], aggfunc='count').fillna(0.0).astype(int)\n",
    "\n",
    "# trans_mat: 한 (state, action)에서 어떤 result로 갈 확률\n",
    "trans_mat = result_cnt.apply(lambda x: x / state_action_cnt[result_cnt.index])"
   ]
  },
  {
   "cell_type": "markdown",
   "metadata": {},
   "source": [
    "# 타자, 투수 policy"
   ]
  },
  {
   "cell_type": "code",
   "execution_count": 6,
   "metadata": {},
   "outputs": [],
   "source": [
    "min_pa = 100  # 최소 타석 수."
   ]
  },
  {
   "cell_type": "code",
   "execution_count": 7,
   "metadata": {},
   "outputs": [],
   "source": [
    "# 초기화\n",
    "bat = {}\n",
    "for bat_id in train.BAT_ID.unique():\n",
    "    bat[bat_id] = {key: 0 for key in pa_events + ['pa']}\n",
    "    \n",
    "# 각 타자의 event 개수 세기.\n",
    "for index, row in train.iterrows():\n",
    "    bat_id = row['BAT_ID']\n",
    "    event = row['EVENT_CD']\n",
    "    bat[bat_id]['pa'] += 1\n",
    "    bat[bat_id][event] += 1\n",
    "    \n",
    "# 평균 타자 기록 (pa < min_pa)\n",
    "bat['average'] = {key: 0 for key in pa_events + ['pa']}\n",
    "for bat_id in bat:\n",
    "    bat['average']['pa'] += bat[bat_id]['pa']\n",
    "    for event in pa_events:\n",
    "        bat['average'][event] += bat[bat_id][event]"
   ]
  },
  {
   "cell_type": "code",
   "execution_count": 8,
   "metadata": {},
   "outputs": [],
   "source": [
    "# 초기화\n",
    "pit = {}\n",
    "for pit_id in train.PIT_ID.unique():\n",
    "    pit[pit_id] = {key: 0 for key in pa_events + ['pa']}\n",
    "    \n",
    "# 각 투수의 event 개수 세기.\n",
    "for index, row in train.iterrows():\n",
    "    pit_id = row['PIT_ID']\n",
    "    event = row['EVENT_CD']\n",
    "    pit[pit_id]['pa'] += 1\n",
    "    pit[pit_id][event] += 1\n",
    "    \n",
    "# 평균 투수 기록 (pa < min_pa)\n",
    "pit['average'] = {key: 0 for key in pa_events + ['pa']}\n",
    "for pit_id in pit:\n",
    "    pit['average']['pa'] += pit[pit_id]['pa']\n",
    "    for event in pa_events:\n",
    "        pit['average'][event] += pit[pit_id][event]"
   ]
  },
  {
   "cell_type": "markdown",
   "metadata": {},
   "source": [
    "# 각 타석에서 각 event가 일어날 확률을 학습"
   ]
  },
  {
   "cell_type": "code",
   "execution_count": 9,
   "metadata": {},
   "outputs": [],
   "source": [
    "# event_dict 초기화.\n",
    "event_dict = {}\n",
    "for event in pa_events:\n",
    "    event_dict['BAT_'+str(event)] = []\n",
    "    event_dict['PIT_'+str(event)] = []\n",
    "    \n",
    "other_features = {'OUTS_CT', 'BASE1_RUN_FL', 'BASE2_RUN_FL', 'BASE3_RUN_FL', 'EVENT_CD'}\n",
    "for feature in other_features:\n",
    "    event_dict[feature] = []\n",
    "\n",
    "# 각 타석에서 타자 policy와 투수 policy를 가져옴.\n",
    "for index, row in train.iterrows():\n",
    "    bat_id = row['BAT_ID']\n",
    "    pit_id = row['PIT_ID']\n",
    "    \n",
    "    for event in pa_events:\n",
    "        if bat[bat_id]['pa'] >= min_pa:\n",
    "            event_dict['BAT_'+str(event)].append(bat[bat_id][event] / bat[bat_id]['pa'])\n",
    "        else:\n",
    "            event_dict['BAT_'+str(event)].append(bat['average'][event] / bat['average']['pa'])\n",
    "        \n",
    "        if pit[pit_id]['pa'] >= min_pa:\n",
    "            event_dict['PIT_'+str(event)].append(pit[pit_id][event] / pit[pit_id]['pa'])\n",
    "        else:\n",
    "            event_dict['PIT_'+str(event)].append(pit['average'][event] / pit['average']['pa'])\n",
    "            \n",
    "    for feature in other_features:\n",
    "        event_dict[feature].append(row[feature])\n",
    "\n",
    "event_df = pd.DataFrame(event_dict)"
   ]
  },
  {
   "cell_type": "code",
   "execution_count": 10,
   "metadata": {},
   "outputs": [
    {
     "data": {
      "text/plain": [
       "LogisticRegression(C=1.0, class_weight=None, dual=False, fit_intercept=True,\n",
       "                   intercept_scaling=1, l1_ratio=None, max_iter=100,\n",
       "                   multi_class='auto', n_jobs=-1, penalty='l2',\n",
       "                   random_state=None, solver='lbfgs', tol=0.0001, verbose=0,\n",
       "                   warm_start=False)"
      ]
     },
     "execution_count": 10,
     "metadata": {},
     "output_type": "execute_result"
    }
   ],
   "source": [
    "X = event_df.drop('EVENT_CD', axis=1)\n",
    "y = event_df['EVENT_CD']\n",
    "\n",
    "from sklearn.linear_model import LogisticRegression\n",
    "model = LogisticRegression(solver='lbfgs', n_jobs=-1)\n",
    "model.fit(X, y)\n",
    "# pd.DataFrame(model.predict_proba(X), columns=pa_events).mean()"
   ]
  },
  {
   "cell_type": "markdown",
   "metadata": {},
   "source": [
    "# 각 팀별 평균 수비력"
   ]
  },
  {
   "cell_type": "code",
   "execution_count": 11,
   "metadata": {},
   "outputs": [],
   "source": [
    "away_event_cnt = train.groupby('AWAY_TEAM_ID')['EVENT_CD'].value_counts()\n",
    "home_event_cnt = train.groupby('HOME_TEAM_ID')['EVENT_CD'].value_counts()\n",
    "\n",
    "team_info = {}\n",
    "for team, event in away_event_cnt.index:\n",
    "    if team not in team_info:\n",
    "        team_info[team] = {event: 0 for event in pa_events + ['pa']}\n",
    "    team_info[team][event] += away_event_cnt[(team, event)]\n",
    "    team_info[team]['pa'] += away_event_cnt[(team, event)]\n",
    "for team, event in home_event_cnt.index:\n",
    "    if team not in team_info:\n",
    "        team_info[team] = {event: 0 for event in pa_events + ['pa']}\n",
    "    team_info[team][event] += home_event_cnt[(team, event)]\n",
    "    team_info[team]['pa'] += home_event_cnt[(team, event)]"
   ]
  },
  {
   "cell_type": "code",
   "execution_count": 12,
   "metadata": {},
   "outputs": [],
   "source": [
    "# (action, proba)를 dictionary 형태로 받아서 random action을 선택하는 함수\n",
    "def choose_rand_action(probas):\n",
    "    probas = dict(probas)  # {2: 0.45, 3: 0.22, ...}\n",
    "    choice = random.uniform(0, 1)\n",
    "    accu = 0\n",
    "    for action, proba in probas.items():\n",
    "        accu += proba\n",
    "        if choice < accu:\n",
    "            return action\n",
    "    return action"
   ]
  },
  {
   "cell_type": "code",
   "execution_count": 13,
   "metadata": {},
   "outputs": [],
   "source": [
    "def get_policy(bat_id, pit_id, state, pit_team, sec_pit=False):\n",
    "    features = []\n",
    "    for event in pa_events:\n",
    "        if bat_id in bat and bat[bat_id]['pa'] >= min_pa:\n",
    "            features.append(bat[bat_id][event] / bat[bat_id]['pa'])\n",
    "        else:\n",
    "            features.append(bat['average'][event] / bat['average']['pa'])\n",
    "        \n",
    "        if not sec_pit:  # 선발 투수인 경우.\n",
    "            if pit_id in pit and pit[pit_id]['pa'] >= min_pa:\n",
    "                features.append(pit[pit_id][event] / pit[pit_id]['pa'])\n",
    "            else:\n",
    "                features.append(pit['average'][event] / pit['average']['pa'])\n",
    "        else:  # 선발 투수가 아닌 경우.\n",
    "            if pit_id in pit:\n",
    "                proba = (team_info[pit_team][event] - pit[pit_id][event]) / (team_info[pit_team]['pa'] - pit[pit_id]['pa'])\n",
    "            else:\n",
    "                proba = team_info[pit_team][event] / team_info[pit_team]['pa']\n",
    "            features.append(proba)\n",
    "            \n",
    "    features = features + state\n",
    "    \n",
    "    probas = model.predict_proba([features])\n",
    "    return {event: probas[0, index] for index, event in enumerate(pa_events)}"
   ]
  },
  {
   "cell_type": "markdown",
   "metadata": {},
   "source": [
    "# Simulation"
   ]
  },
  {
   "cell_type": "code",
   "execution_count": 14,
   "metadata": {},
   "outputs": [],
   "source": [
    "n_simuls = 250\n",
    "n_procs = 25"
   ]
  },
  {
   "cell_type": "code",
   "execution_count": 15,
   "metadata": {},
   "outputs": [],
   "source": [
    "def simulation(away_scores, home_scores, case_num):\n",
    "    state = {\n",
    "        'INN_CT': 1,\n",
    "        'BAT_HOME_ID': 0,\n",
    "        'OUTS_CT': 0,\n",
    "        'BASE1_RUN_FL': False,\n",
    "        'BASE2_RUN_FL': False,\n",
    "        'BASE3_RUN_FL': False,\n",
    "        'AWAY_BAT_CD': 1,\n",
    "        'HOME_BAT_CD': 1,\n",
    "        'AWAY_SCORE_CT': 0,\n",
    "        'HOME_SCORE_CT': 0,\n",
    "        'END_FL': False\n",
    "    }\n",
    "\n",
    "    while state['END_FL'] == False:  # Until the game ends.\n",
    "        if state['BAT_HOME_ID'] == 0:  # away team batting\n",
    "            policy = get_policy(away_batters[state['AWAY_BAT_CD']-1], home_pitcher,\n",
    "                                [state['OUTS_CT'], state['BASE1_RUN_FL'], state['BASE2_RUN_FL'], state['BASE3_RUN_FL']],\n",
    "                                home_team, state['INN_CT'] >= 6)\n",
    "        else:  # home team batting\n",
    "            policy = get_policy(home_batters[state['HOME_BAT_CD']-1], away_pitcher,\n",
    "                                [state['OUTS_CT'], state['BASE1_RUN_FL'], state['BASE2_RUN_FL'], state['BASE3_RUN_FL']],\n",
    "                                away_team, state['INN_CT'] >= 6)\n",
    "\n",
    "        action = choose_rand_action(policy)\n",
    "\n",
    "        state_action = (state['OUTS_CT'], state['BASE1_RUN_FL'], state['BASE2_RUN_FL'], state['BASE3_RUN_FL'], action)\n",
    "\n",
    "        if state_action not in trans_mat.index:\n",
    "            continue\n",
    "\n",
    "        trans_probas = trans_mat.loc[state_action]\n",
    "        EVENT_OUTS_CT, BAT_DEST_ID, RUN1_DEST_ID, RUN2_DEST_ID, RUN3_DEST_ID = choose_rand_action(trans_probas)\n",
    "\n",
    "        state['OUTS_CT'] += EVENT_OUTS_CT\n",
    "\n",
    "        base = [0, 0, 0, 0, 0, 0, 0]\n",
    "        for runner in [BAT_DEST_ID, RUN1_DEST_ID, RUN2_DEST_ID, RUN3_DEST_ID]:\n",
    "            base[runner] += 1\n",
    "\n",
    "        # 득점 계산\n",
    "        runs_scored = base[4] + base[5] + base[6]\n",
    "\n",
    "        # 주자 갱신\n",
    "        state['BASE1_RUN_FL'] = True if base[1] > 0 else False\n",
    "        state['BASE2_RUN_FL'] = True if base[2] > 0 else False\n",
    "        state['BASE3_RUN_FL'] = True if base[3] > 0 else False\n",
    "\n",
    "        if state['BAT_HOME_ID'] == 0:  # away team 공격이면\n",
    "            state['AWAY_BAT_CD'] = state['AWAY_BAT_CD'] % 9 + 1\n",
    "            state['AWAY_SCORE_CT'] += runs_scored\n",
    "        else:  # home team 공격\n",
    "            state['HOME_BAT_CD'] = state['HOME_BAT_CD'] % 9 + 1\n",
    "            state['HOME_SCORE_CT'] += runs_scored\n",
    "\n",
    "        if state['OUTS_CT'] >= 3:\n",
    "            state['OUTS_CT'] = 0\n",
    "            state['BASE1_RUN_FL'] = False\n",
    "            state['BASE2_RUN_FL'] = False\n",
    "            state['BASE3_RUN_FL'] = False\n",
    "            inning_end = True\n",
    "        else:\n",
    "            inning_end = False\n",
    "\n",
    "        if inning_end:\n",
    "            if state['BAT_HOME_ID'] == 1:\n",
    "                state['INN_CT'] += 1\n",
    "\n",
    "            state['BAT_HOME_ID'] = 1 - state['BAT_HOME_ID']\n",
    "\n",
    "            # 9회까지 했을 때\n",
    "            if state['INN_CT'] > 9:\n",
    "                state['END_FL'] = True\n",
    "\n",
    "    away_scores[case_num] = state['AWAY_SCORE_CT']\n",
    "    home_scores[case_num] = state['HOME_SCORE_CT']"
   ]
  },
  {
   "cell_type": "code",
   "execution_count": 16,
   "metadata": {},
   "outputs": [],
   "source": [
    "def proc_func(away_scores, home_scores, begin, end):\n",
    "    for case_num in range(begin, end):\n",
    "        simulation(away_scores, home_scores, case_num)"
   ]
  },
  {
   "cell_type": "code",
   "execution_count": 17,
   "metadata": {
    "scrolled": true
   },
   "outputs": [
    {
     "name": "stderr",
     "output_type": "stream",
     "text": [
      "100%|█████████▉| 1216/1217 [2:01:17<00:05,  5.73s/it] "
     ]
    },
    {
     "ename": "IndexError",
     "evalue": "list index out of range",
     "output_type": "error",
     "traceback": [
      "\u001b[0;31m---------------------------------------------------------------------------\u001b[0m",
      "\u001b[0;31mIndexError\u001b[0m                                Traceback (most recent call last)",
      "\u001b[0;32m<ipython-input-17-f01ae85904d9>\u001b[0m in \u001b[0;36m<module>\u001b[0;34m\u001b[0m\n\u001b[1;32m      7\u001b[0m \u001b[0;34m\u001b[0m\u001b[0m\n\u001b[1;32m      8\u001b[0m \u001b[0;32mfor\u001b[0m \u001b[0mi\u001b[0m \u001b[0;32min\u001b[0m \u001b[0mtrange\u001b[0m\u001b[0;34m(\u001b[0m\u001b[0mlen\u001b[0m\u001b[0;34m(\u001b[0m\u001b[0mstart_indices\u001b[0m\u001b[0;34m)\u001b[0m\u001b[0;34m)\u001b[0m\u001b[0;34m:\u001b[0m\u001b[0;34m\u001b[0m\u001b[0;34m\u001b[0m\u001b[0m\n\u001b[0;32m----> 9\u001b[0;31m     \u001b[0mthis_game\u001b[0m \u001b[0;34m=\u001b[0m \u001b[0mtest\u001b[0m\u001b[0;34m.\u001b[0m\u001b[0mloc\u001b[0m\u001b[0;34m[\u001b[0m\u001b[0mstart_indices\u001b[0m\u001b[0;34m[\u001b[0m\u001b[0mi\u001b[0m\u001b[0;34m]\u001b[0m\u001b[0;34m:\u001b[0m\u001b[0mstart_indices\u001b[0m\u001b[0;34m[\u001b[0m\u001b[0mi\u001b[0m\u001b[0;34m+\u001b[0m\u001b[0;36m1\u001b[0m\u001b[0;34m]\u001b[0m\u001b[0;34m-\u001b[0m\u001b[0;36m1\u001b[0m\u001b[0;34m]\u001b[0m\u001b[0;34m\u001b[0m\u001b[0;34m\u001b[0m\u001b[0m\n\u001b[0m\u001b[1;32m     10\u001b[0m \u001b[0;34m\u001b[0m\u001b[0m\n\u001b[1;32m     11\u001b[0m     \u001b[0maway_team\u001b[0m \u001b[0;34m=\u001b[0m \u001b[0mthis_game\u001b[0m\u001b[0;34m.\u001b[0m\u001b[0miloc\u001b[0m\u001b[0;34m[\u001b[0m\u001b[0;36m0\u001b[0m\u001b[0;34m]\u001b[0m\u001b[0;34m[\u001b[0m\u001b[0;34m'AWAY_TEAM_ID'\u001b[0m\u001b[0;34m]\u001b[0m\u001b[0;34m\u001b[0m\u001b[0;34m\u001b[0m\u001b[0m\n",
      "\u001b[0;31mIndexError\u001b[0m: list index out of range"
     ]
    }
   ],
   "source": [
    "f = open(\"log.txt\", \"w\")  # 로그 파일 열기\n",
    "\n",
    "# 게임이 시작하는 indices.\n",
    "start_indices = list(test.index[test['GAME_NEW_FL'] == 'T']) + [test.index[-1] + 1]\n",
    "\n",
    "trues, total = 0, 0  # total: 무승부를 제외한 모든 경기.\n",
    "\n",
    "for i in trange(len(start_indices)-1):\n",
    "    this_game = test.loc[start_indices[i]:start_indices[i+1]-1]\n",
    "    \n",
    "    away_team = this_game.iloc[0]['AWAY_TEAM_ID']\n",
    "    home_team = this_game.iloc[0]['HOME_TEAM_ID']\n",
    "    \n",
    "    away_batters = list(this_game['BAT_ID'][this_game['BAT_HOME_ID'] == 0].head(9))\n",
    "    home_batters = list(this_game['BAT_ID'][this_game['BAT_HOME_ID'] == 1].head(9))\n",
    "\n",
    "    home_pitcher = this_game['PIT_ID'][this_game['BAT_HOME_ID'] == 0].iloc[0]\n",
    "    away_pitcher = this_game['PIT_ID'][this_game['BAT_HOME_ID'] == 1].iloc[0]\n",
    "    \n",
    "    with Manager() as manager:\n",
    "        away_scores = manager.list(repeat(0, n_simuls))\n",
    "        home_scores = manager.list(repeat(0, n_simuls))\n",
    "\n",
    "        procs = []\n",
    "        for procID in range(n_procs):  # Simulation using multi-processing.\n",
    "            begin = procID * (n_simuls // n_procs)\n",
    "            end = (procID + 1) * (n_simuls // n_procs) if procID < n_procs - 1 else n_simuls\n",
    "            proc = Process(target=proc_func, args=(away_scores, home_scores, begin, end))\n",
    "            proc.start()\n",
    "            procs.append(proc)\n",
    "\n",
    "        for proc in procs:  # Wait for all processes to complete.\n",
    "            proc.join()\n",
    "            \n",
    "        away_scores = list(away_scores)\n",
    "        home_scores = list(home_scores)\n",
    "        \n",
    "    away_cnt, draw_cnt, home_cnt = 0, 0, 0\n",
    "    for away_score in away_scores:\n",
    "        for home_score in home_scores:\n",
    "            if away_score > home_score:\n",
    "                away_cnt += 1\n",
    "            elif away_score < home_score:\n",
    "                home_cnt += 1\n",
    "            else:\n",
    "                draw_cnt += 1\n",
    "            \n",
    "    # 예상 결과\n",
    "    if away_cnt > home_cnt:\n",
    "        pred = 'away'\n",
    "    else:\n",
    "        pred = 'home'\n",
    "        \n",
    "    # 실제 결과\n",
    "    if this_game.iloc[-1]['AWAY_SCORE_CT'] > this_game.iloc[-1]['HOME_SCORE_CT']:\n",
    "        real = 'away'\n",
    "    elif this_game.iloc[-1]['AWAY_SCORE_CT'] < this_game.iloc[-1]['HOME_SCORE_CT']:\n",
    "        real = 'home'\n",
    "    else:\n",
    "        real = 'draw'\n",
    "        \n",
    "    # 맞은 것 카운트\n",
    "    if real != 'draw':\n",
    "        total += 1\n",
    "    if pred == real:\n",
    "        trues += 1\n",
    "    \n",
    "    # 결과 출력\n",
    "    f.write(f\"실제-{this_game.iloc[-1]['AWAY_SCORE_CT']}:{this_game.iloc[-1]['HOME_SCORE_CT']} / \")\n",
    "    f.write(f'예상-{np.mean(away_scores)}:{np.mean(home_scores)} / ')\n",
    "    f.write(f'away:draw:home-{away_cnt/(n_simuls**2)}:{draw_cnt/(n_simuls**2)}:{home_cnt/(n_simuls**2)} / ')\n",
    "    f.write(f'예측-{pred}')\n",
    "    if (i+1) % 10 == 0:\n",
    "        f.write(f' / {i+1}번 게임까지 정확도-{trues / total}')\n",
    "    f.write('\\n')\n",
    "    f.flush()\n",
    "    \n",
    "    # 타자, 투수 정보 추가\n",
    "    for idx, row in this_game.iterrows():\n",
    "        bat_id, pit_id = row['BAT_ID'], row['PIT_ID']\n",
    "        event = row['EVENT_CD']\n",
    "        \n",
    "        if bat_id not in bat:\n",
    "            bat[bat_id] = {key: 0 for key in pa_events + ['pa']}\n",
    "        if pit_id not in pit:\n",
    "            pit[pit_id] = {key: 0 for key in pa_events + ['pa']}\n",
    "            \n",
    "        bat[bat_id]['pa'] += 1\n",
    "        bat[bat_id][event] += 1\n",
    "        bat['average']['pa'] += 1\n",
    "        bat['average'][event] += 1\n",
    "        \n",
    "        pit[pit_id]['pa'] += 1\n",
    "        pit[pit_id][event] += 1\n",
    "        pit['average']['pa'] += 1\n",
    "        pit['average'][event] += 1\n",
    "        \n",
    "        if row['BAT_HOME_ID'] == 0:\n",
    "            team_info[row['HOME_TEAM_ID']]['pa'] += 1\n",
    "            team_info[row['HOME_TEAM_ID']][event] += 1\n",
    "        else:\n",
    "            team_info[row['AWAY_TEAM_ID']]['pa'] += 1\n",
    "            team_info[row['AWAY_TEAM_ID']][event] += 1\n",
    "        \n",
    "f.close()  # 로그 파일 닫기"
   ]
  },
  {
   "cell_type": "code",
   "execution_count": 18,
   "metadata": {},
   "outputs": [
    {
     "data": {
      "text/plain": [
       "0.5741239892183289"
      ]
     },
     "execution_count": 18,
     "metadata": {},
     "output_type": "execute_result"
    }
   ],
   "source": [
    "trues / total"
   ]
  }
 ],
 "metadata": {
  "kernelspec": {
   "display_name": "Python 3",
   "language": "python",
   "name": "python3"
  },
  "language_info": {
   "codemirror_mode": {
    "name": "ipython",
    "version": 3
   },
   "file_extension": ".py",
   "mimetype": "text/x-python",
   "name": "python",
   "nbconvert_exporter": "python",
   "pygments_lexer": "ipython3",
   "version": "3.7.5"
  }
 },
 "nbformat": 4,
 "nbformat_minor": 4
}
