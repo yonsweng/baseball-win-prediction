{
 "cells": [
  {
   "cell_type": "code",
   "execution_count": 1,
   "metadata": {},
   "outputs": [],
   "source": [
    "import pandas as pd\n",
    "import numpy as np\n",
    "import math\n",
    "import random\n",
    "import seaborn as sns\n",
    "from tqdm import trange\n",
    "from matplotlib import pyplot as plt\n",
    "from time import sleep\n",
    "pd.options.display.max_rows = 250\n",
    "pd.options.display.max_columns = 105"
   ]
  },
  {
   "cell_type": "code",
   "execution_count": 2,
   "metadata": {},
   "outputs": [
    {
     "name": "stdout",
     "output_type": "stream",
     "text": [
      "타석 데이터의 비율: 0.969\n"
     ]
    }
   ],
   "source": [
    "data = pd.read_csv('../input/mlbplaybyplay2010s/all2018.csv', low_memory=False)\n",
    "\n",
    "# 타석 데이터만 남기기\n",
    "pa_events = [2, 3, 14, 15, 16, 17, 18, 19, 20, 21, 22, 23]\n",
    "is_pa = data['EVENT_CD'].isin(pa_events)\n",
    "print('타석 데이터의 비율: %.3f' % (sum(is_pa) / data.shape[0]))\n",
    "data = data[is_pa].reset_index(drop=True)"
   ]
  },
  {
   "cell_type": "markdown",
   "metadata": {},
   "source": [
    "# Transition matrix 구하기"
   ]
  },
  {
   "cell_type": "code",
   "execution_count": 3,
   "metadata": {},
   "outputs": [],
   "source": [
    "# 주자 flag columns 추가\n",
    "data['BASE1_RUN_FL'] = data['BASE1_RUN_ID'].notna()\n",
    "data['BASE2_RUN_FL'] = data['BASE2_RUN_ID'].notna()\n",
    "data['BASE3_RUN_FL'] = data['BASE3_RUN_ID'].notna()\n",
    "\n",
    "data['HOME_TEAM_ID'] = data.apply(lambda row: row.GAME_ID[:3], axis=1)\n",
    "\n",
    "# 초반, 후반 데이터 나누기\n",
    "n_games = sum(data.GAME_NEW_FL == 'T')  # 게임 수\n",
    "train = data[data.GAME_ID.isin(data.GAME_ID.unique()[:n_games//2])]  # 전반기\n",
    "test = data[data.GAME_ID.isin(data.GAME_ID.unique()[n_games//2:])]  # 후반기"
   ]
  },
  {
   "cell_type": "code",
   "execution_count": 4,
   "metadata": {},
   "outputs": [],
   "source": [
    "# state_action_cnt: 한 state에서 어떤 action을 하는 경우의 수\n",
    "state_action_cnt = train.groupby(['OUTS_CT', 'BASE1_RUN_FL', 'BASE2_RUN_FL', 'BASE3_RUN_FL'])['EVENT_CD'].value_counts()\n",
    "\n",
    "# result_cnt: 한 (state, action)에서 어떤 result로 가는 경우의 수\n",
    "result_cnt = pd.pivot_table(train, values='EVENT_ID', index=['OUTS_CT', 'BASE1_RUN_FL', 'BASE2_RUN_FL', 'BASE3_RUN_FL', 'EVENT_CD'], columns=['EVENT_OUTS_CT', 'BAT_DEST_ID', 'RUN1_DEST_ID', 'RUN2_DEST_ID', 'RUN3_DEST_ID'], aggfunc='count').fillna(0.0).astype(int)\n",
    "\n",
    "# trans_mat: 한 (state, action)에서 어떤 result로 갈 확률\n",
    "trans_mat = result_cnt.apply(lambda x: x / state_action_cnt[result_cnt.index])"
   ]
  },
  {
   "cell_type": "markdown",
   "metadata": {},
   "source": [
    "# 타자, 투수 policy 초기화"
   ]
  },
  {
   "cell_type": "code",
   "execution_count": 5,
   "metadata": {},
   "outputs": [],
   "source": [
    "min_pa = 100"
   ]
  },
  {
   "cell_type": "code",
   "execution_count": 6,
   "metadata": {},
   "outputs": [],
   "source": [
    "# 초기화\n",
    "bat = {}\n",
    "for bat_id in train.BAT_ID.unique():\n",
    "    bat[bat_id] = {key: 0 for key in pa_events + ['pa']}\n",
    "    \n",
    "# 각 타자의 event 개수 세기.\n",
    "for index, row in train.iterrows():\n",
    "    bat_id = row['BAT_ID']\n",
    "    event = row['EVENT_CD']\n",
    "    bat[bat_id]['pa'] += 1\n",
    "    bat[bat_id][event] += 1\n",
    "    \n",
    "# 평균 타자 기록 (pa < min_pa)\n",
    "bat['average'] = {key: 0 for key in pa_events + ['pa']}\n",
    "for bat_id in bat:\n",
    "    # if bat[bat_id]['pa'] < min_pa:\n",
    "    bat['average']['pa'] += bat[bat_id]['pa']\n",
    "    for event in pa_events:\n",
    "        bat['average'][event] += bat[bat_id][event]"
   ]
  },
  {
   "cell_type": "code",
   "execution_count": 7,
   "metadata": {},
   "outputs": [],
   "source": [
    "# 초기화\n",
    "pit = {}\n",
    "for pit_id in train.PIT_ID.unique():\n",
    "    pit[pit_id] = {key: 0 for key in pa_events + ['pa']}\n",
    "    \n",
    "# 각 투수의 event 개수 세기.\n",
    "for index, row in train.iterrows():\n",
    "    pit_id = row['PIT_ID']\n",
    "    event = row['EVENT_CD']\n",
    "    pit[pit_id]['pa'] += 1\n",
    "    pit[pit_id][event] += 1\n",
    "    \n",
    "# 평균 투수 기록 (pa < min_pa)\n",
    "pit['average'] = {key: 0 for key in pa_events + ['pa']}\n",
    "for pit_id in pit:\n",
    "    # if pit[pit_id]['pa'] < min_pa:\n",
    "    pit['average']['pa'] += pit[pit_id]['pa']\n",
    "    for event in pa_events:\n",
    "        pit['average'][event] += pit[pit_id][event]"
   ]
  },
  {
   "cell_type": "markdown",
   "metadata": {},
   "source": [
    "# 각 타석에서 각 event가 일어날 확률을 학습"
   ]
  },
  {
   "cell_type": "code",
   "execution_count": 8,
   "metadata": {},
   "outputs": [],
   "source": [
    "# 초기화\n",
    "event_dict = {}\n",
    "for event in pa_events:\n",
    "    event_dict['bat_'+str(event)] = []\n",
    "    event_dict['pit_'+str(event)] = []\n",
    "event_dict['outs_ct'] = []\n",
    "event_dict['base1_run_fl'] = []\n",
    "event_dict['base2_run_fl'] = []\n",
    "event_dict['base3_run_fl'] = []\n",
    "event_dict['result'] = []\n",
    "\n",
    "# 각 타석에서 타자 policy와 투수 policy를 가져옴.\n",
    "for index, row in train.iterrows():\n",
    "    bat_id = row['BAT_ID']\n",
    "    pit_id = row['PIT_ID']\n",
    "    \n",
    "    for event in pa_events:\n",
    "        if bat[bat_id]['pa'] >= min_pa:\n",
    "            event_dict['bat_'+str(event)].append(bat[bat_id][event] / bat[bat_id]['pa'])\n",
    "        else:\n",
    "            event_dict['bat_'+str(event)].append(bat['average'][event] / bat['average']['pa'])\n",
    "        \n",
    "        if pit[pit_id]['pa'] >= min_pa:\n",
    "            event_dict['pit_'+str(event)].append(pit[pit_id][event] / pit[pit_id]['pa'])\n",
    "        else:\n",
    "            event_dict['pit_'+str(event)].append(pit['average'][event] / pit['average']['pa'])\n",
    "\n",
    "    event_dict['outs_ct'].append(row['OUTS_CT'])\n",
    "    event_dict['base1_run_fl'].append(row['BASE1_RUN_FL'])\n",
    "    event_dict['base2_run_fl'].append(row['BASE2_RUN_FL'])\n",
    "    event_dict['base3_run_fl'].append(row['BASE3_RUN_FL'])\n",
    "    event_dict['result'].append(row['EVENT_CD'])\n",
    "\n",
    "event_df = pd.DataFrame(event_dict)"
   ]
  },
  {
   "cell_type": "code",
   "execution_count": 9,
   "metadata": {},
   "outputs": [
    {
     "data": {
      "text/plain": [
       "LogisticRegression(C=1.0, class_weight=None, dual=False, fit_intercept=True,\n",
       "                   intercept_scaling=1, l1_ratio=None, max_iter=100,\n",
       "                   multi_class='auto', n_jobs=-1, penalty='l2',\n",
       "                   random_state=None, solver='lbfgs', tol=0.0001, verbose=0,\n",
       "                   warm_start=False)"
      ]
     },
     "execution_count": 9,
     "metadata": {},
     "output_type": "execute_result"
    }
   ],
   "source": [
    "X = event_df.drop('result', axis=1)\n",
    "y = event_df['result']\n",
    "\n",
    "from sklearn.linear_model import LogisticRegression\n",
    "model = LogisticRegression(solver='lbfgs', n_jobs=-1)\n",
    "model.fit(X, y)"
   ]
  },
  {
   "cell_type": "code",
   "execution_count": 10,
   "metadata": {},
   "outputs": [
    {
     "data": {
      "text/plain": [
       "2     0.449556\n",
       "3     0.219260\n",
       "14    0.080176\n",
       "15    0.005276\n",
       "16    0.010821\n",
       "17    0.000273\n",
       "18    0.007993\n",
       "19    0.002960\n",
       "20    0.143020\n",
       "21    0.045208\n",
       "22    0.004964\n",
       "23    0.030493\n",
       "dtype: float64"
      ]
     },
     "execution_count": 10,
     "metadata": {},
     "output_type": "execute_result"
    }
   ],
   "source": [
    "pd.DataFrame(model.predict_proba(X), columns=pa_events).mean()"
   ]
  },
  {
   "cell_type": "markdown",
   "metadata": {},
   "source": [
    "# 각 팀별 평균 수비력"
   ]
  },
  {
   "cell_type": "code",
   "execution_count": 11,
   "metadata": {},
   "outputs": [],
   "source": [
    "away_event_cnt = train.groupby('AWAY_TEAM_ID')['EVENT_CD'].value_counts()\n",
    "home_event_cnt = train.groupby('HOME_TEAM_ID')['EVENT_CD'].value_counts()\n",
    "\n",
    "team_info = {}\n",
    "for team, event in away_event_cnt.index:\n",
    "    if team not in team_info:\n",
    "        team_info[team] = {event: 0 for event in pa_events + ['pa']}\n",
    "    team_info[team][event] += away_event_cnt[(team, event)]\n",
    "    team_info[team]['pa'] += away_event_cnt[(team, event)]\n",
    "for team, event in home_event_cnt.index:\n",
    "    if team not in team_info:\n",
    "        team_info[team] = {event: 0 for event in pa_events + ['pa']}\n",
    "    team_info[team][event] += home_event_cnt[(team, event)]\n",
    "    team_info[team]['pa'] += home_event_cnt[(team, event)]"
   ]
  },
  {
   "cell_type": "code",
   "execution_count": 12,
   "metadata": {},
   "outputs": [],
   "source": [
    "# (action, proba)를 dictionary 형태로 받아서 random action을 선택하는 함수\n",
    "def choose_rand_action(probas):\n",
    "    probas = dict(probas)  # {2: 0.45, 3: 0.22, ...}\n",
    "    choice = random.uniform(0, 1)\n",
    "    accu = 0\n",
    "    for action, proba in probas.items():\n",
    "        accu += proba\n",
    "        if choice < accu:\n",
    "            return action\n",
    "    return action"
   ]
  },
  {
   "cell_type": "code",
   "execution_count": 13,
   "metadata": {},
   "outputs": [],
   "source": [
    "def get_policy(bat_id, pit_id, out_base_state, pit_team, sec_pit=False):\n",
    "    features = []\n",
    "    for event in pa_events:\n",
    "        if bat_id in bat and bat[bat_id]['pa'] >= min_pa:\n",
    "            features.append(bat[bat_id][event] / bat[bat_id]['pa'])\n",
    "        else:\n",
    "            features.append(bat['average'][event] / bat['average']['pa'])\n",
    "        \n",
    "        if not sec_pit:\n",
    "            if pit_id in pit and pit[pit_id]['pa'] >= min_pa:\n",
    "                features.append(pit[pit_id][event] / pit[pit_id]['pa'])\n",
    "            else:\n",
    "                features.append(pit['average'][event] / pit['average']['pa'])\n",
    "        else:  # 선발 투수가 아닌 경우\n",
    "            if pit_id in pit:\n",
    "                proba = (team_info[pit_team][event] - pit[pit_id][event]) / (team_info[pit_team]['pa'] - pit[pit_id]['pa'])\n",
    "            else:\n",
    "                proba = team_info[pit_team][event] / team_info[pit_team]['pa']\n",
    "            features.append(proba)\n",
    "            \n",
    "    features = features + out_base_state\n",
    "    \n",
    "    probas = model.predict_proba([features])\n",
    "    return {event: probas[0, index] for index, event in enumerate(pa_events)}"
   ]
  },
  {
   "cell_type": "markdown",
   "metadata": {},
   "source": [
    "# Simulation"
   ]
  },
  {
   "cell_type": "code",
   "execution_count": null,
   "metadata": {
    "scrolled": true
   },
   "outputs": [
    {
     "name": "stderr",
     "output_type": "stream",
     "text": [
      " 11%|█         | 134/1215 [1:15:57<10:14:52, 34.13s/it]"
     ]
    }
   ],
   "source": [
    "# 로그 파일 열기\n",
    "f = open(\"log.txt\", \"w\")\n",
    "\n",
    "# 게임이 시작하는 indices.\n",
    "start_indices = test.index[test['GAME_NEW_FL'] == 'T']\n",
    "\n",
    "trues, total = 0, 0\n",
    "\n",
    "for i in trange(len(start_indices)-1):\n",
    "    this_game = test.loc[start_indices[i]:start_indices[i+1]-1]\n",
    "    \n",
    "    away_team = this_game.iloc[0]['AWAY_TEAM_ID']\n",
    "    home_team = this_game.iloc[0]['HOME_TEAM_ID']\n",
    "    \n",
    "    away_batters = list(this_game['BAT_ID'][this_game['BAT_HOME_ID'] == 0].head(9))\n",
    "    home_batters = list(this_game['BAT_ID'][this_game['BAT_HOME_ID'] == 1].head(9))\n",
    "\n",
    "    home_pitcher = this_game['PIT_ID'][this_game['BAT_HOME_ID'] == 0].iloc[0]\n",
    "    away_pitcher = this_game['PIT_ID'][this_game['BAT_HOME_ID'] == 1].iloc[0]\n",
    "\n",
    "    away_scores = []\n",
    "    home_scores = []\n",
    "    \n",
    "    n_simuls = 100\n",
    "    for case_num in range(n_simuls):\n",
    "        state = {\n",
    "            'INN_CT': 1,\n",
    "            'BAT_HOME_ID': 0,\n",
    "            'OUTS_CT': 0,\n",
    "            'BASE1_RUN_FL': False,\n",
    "            'BASE2_RUN_FL': False,\n",
    "            'BASE3_RUN_FL': False,\n",
    "            'AWAY_BAT_CD': 1,\n",
    "            'HOME_BAT_CD': 1,\n",
    "            'AWAY_SCORE_CT': 0,\n",
    "            'HOME_SCORE_CT': 0,\n",
    "            'END_FL': False\n",
    "        }\n",
    "        \n",
    "        # Simulation\n",
    "        while state['END_FL'] == False:\n",
    "            if state['BAT_HOME_ID'] == 0:  # away team batting\n",
    "                policy = get_policy(away_batters[state['AWAY_BAT_CD']-1], home_pitcher,\n",
    "                                    [state['OUTS_CT'], state['BASE1_RUN_FL'], state['BASE2_RUN_FL'], state['BASE3_RUN_FL']],\n",
    "                                    home_team, state['INN_CT'] >= 6)\n",
    "            else:  # home team batting\n",
    "                policy = get_policy(home_batters[state['HOME_BAT_CD']-1], away_pitcher,\n",
    "                                    [state['OUTS_CT'], state['BASE1_RUN_FL'], state['BASE2_RUN_FL'], state['BASE3_RUN_FL']],\n",
    "                                    away_team, state['INN_CT'] >= 6)\n",
    "\n",
    "            action = choose_rand_action(policy)\n",
    "\n",
    "            state_action = (state['OUTS_CT'], state['BASE1_RUN_FL'], state['BASE2_RUN_FL'], state['BASE3_RUN_FL'], action)\n",
    "            \n",
    "            if state_action not in trans_mat.index:\n",
    "                continue\n",
    "            \n",
    "            trans_probas = trans_mat.loc[state_action]\n",
    "            EVENT_OUTS_CT, BAT_DEST_ID, RUN1_DEST_ID, RUN2_DEST_ID, RUN3_DEST_ID = \\\n",
    "            choose_rand_action(trans_probas)\n",
    "\n",
    "            state['OUTS_CT'] += EVENT_OUTS_CT\n",
    "\n",
    "            base = [0, 0, 0, 0, 0, 0, 0]\n",
    "            for runner in [BAT_DEST_ID, RUN1_DEST_ID, RUN2_DEST_ID, RUN3_DEST_ID]:\n",
    "                base[runner] += 1\n",
    "\n",
    "            # 득점 계산\n",
    "            runs_scored = base[4] + base[5] + base[6]\n",
    "\n",
    "            # 주자 갱신\n",
    "            state['BASE1_RUN_FL'] = True if base[1] > 0 else False\n",
    "            state['BASE2_RUN_FL'] = True if base[2] > 0 else False\n",
    "            state['BASE3_RUN_FL'] = True if base[3] > 0 else False\n",
    "\n",
    "            if state['BAT_HOME_ID'] == 0:  # away team 공격이면\n",
    "                state['AWAY_BAT_CD'] = state['AWAY_BAT_CD'] % 9 + 1\n",
    "                state['AWAY_SCORE_CT'] += runs_scored\n",
    "            else:  # home team 공격\n",
    "                state['HOME_BAT_CD'] = state['HOME_BAT_CD'] % 9 + 1\n",
    "                state['HOME_SCORE_CT'] += runs_scored\n",
    "\n",
    "            if state['OUTS_CT'] >= 3:\n",
    "                state['OUTS_CT'] = 0\n",
    "                inning_end = True\n",
    "                state['BASE1_RUN_FL'] = False\n",
    "                state['BASE2_RUN_FL'] = False\n",
    "                state['BASE3_RUN_FL'] = False\n",
    "            else:\n",
    "                inning_end = False\n",
    "\n",
    "            if inning_end:\n",
    "                if state['BAT_HOME_ID'] == 1:\n",
    "                    state['INN_CT'] += 1\n",
    "\n",
    "                state['BAT_HOME_ID'] = 1 - state['BAT_HOME_ID']\n",
    "                \n",
    "                # 9회까지 했을 때\n",
    "                if state['INN_CT'] > 9:\n",
    "                    state['END_FL'] = True\n",
    "                    \n",
    "        away_scores.append(state['AWAY_SCORE_CT'])\n",
    "        home_scores.append(state['HOME_SCORE_CT'])\n",
    "        \n",
    "    away_cnt, draw_cnt, home_cnt = 0, 0, 0\n",
    "    for away_score in away_scores:\n",
    "        for home_score in home_scores:\n",
    "            if away_score > home_score:\n",
    "                away_cnt += 1\n",
    "            elif away_score < home_score:\n",
    "                home_cnt += 1\n",
    "            else:\n",
    "                draw_cnt += 1\n",
    "            \n",
    "    # 예상 결과\n",
    "    if draw_cnt / (n_simuls**2) >= 0.15:\n",
    "        pred = 'draw'\n",
    "    elif away_cnt > home_cnt:\n",
    "        pred = 'away'\n",
    "    else:\n",
    "        pred = 'home'\n",
    "        \n",
    "    # 실제 결과\n",
    "    if this_game.iloc[-1]['AWAY_SCORE_CT'] > this_game.iloc[-1]['HOME_SCORE_CT']:\n",
    "        real = 'away'\n",
    "    elif this_game.iloc[-1]['AWAY_SCORE_CT'] < this_game.iloc[-1]['HOME_SCORE_CT']:\n",
    "        real = 'home'\n",
    "    else:\n",
    "        real = 'draw'\n",
    "        \n",
    "    # 맞은 것 카운트\n",
    "    if real != 'draw':\n",
    "        total += 1\n",
    "    if pred == real:\n",
    "        trues += 1\n",
    "    \n",
    "    # 결과 출력\n",
    "    f.write(f'예상 점수 {np.mean(away_scores)}:{np.mean(home_scores)} / ')\n",
    "    f.write(f\"실제 점수 {this_game.iloc[-1]['AWAY_SCORE_CT']}:{this_game.iloc[-1]['HOME_SCORE_CT']} / \")\n",
    "    f.write(f'away:draw:home - {away_cnt/(n_simuls**2)}:{draw_cnt/(n_simuls**2)}:{home_cnt/(n_simuls**2)} / ')\n",
    "    f.write(f'예측: {pred}\\n')\n",
    "    if total % 10 == 0:\n",
    "        f.write(f'{total}번 게임까지 정확도: {trues / total}\\n')\n",
    "    f.flush()\n",
    "    \n",
    "    # 타자, 투수 정보 추가\n",
    "    for idx, row in this_game.iterrows():\n",
    "        bat_id, pit_id = row['BAT_ID'], row['PIT_ID']\n",
    "        event = row['EVENT_CD']\n",
    "        \n",
    "        if bat_id not in bat:\n",
    "            bat[bat_id] = {key: 0 for key in pa_events + ['pa']}\n",
    "        if pit_id not in pit:\n",
    "            pit[pit_id] = {key: 0 for key in pa_events + ['pa']}\n",
    "            \n",
    "        bat[bat_id]['pa'] += 1\n",
    "        bat[bat_id][event] += 1\n",
    "        bat['average']['pa'] += 1\n",
    "        bat['average'][event] += 1\n",
    "        \n",
    "        pit[pit_id]['pa'] += 1\n",
    "        pit[pit_id][event] += 1\n",
    "        pit['average']['pa'] += 1\n",
    "        pit['average'][event] += 1\n",
    "        \n",
    "        if row['BAT_HOME_ID'] == 0:\n",
    "            team_info[row['HOME_TEAM_ID']]['pa'] += 1\n",
    "            team_info[row['HOME_TEAM_ID']][event] += 1\n",
    "        else:\n",
    "            team_info[row['AWAY_TEAM_ID']]['pa'] += 1\n",
    "            team_info[row['AWAY_TEAM_ID']][event] += 1\n",
    "        \n",
    "# 로그 파일 닫기\n",
    "f.close()"
   ]
  },
  {
   "cell_type": "markdown",
   "metadata": {},
   "source": [
    "# Compute the inning's expected scores of given states"
   ]
  },
  {
   "cell_type": "code",
   "execution_count": null,
   "metadata": {},
   "outputs": [],
   "source": [
    "# 이닝 바뀌는 지점 구하기\n",
    "train['INN_END_FL'] = train.apply(lambda row:\n",
    "                                  row['OUTS_CT'] + row['EVENT_OUTS_CT'] == 3,\n",
    "                                  axis=1)\n",
    "\n",
    "# 각 타석에서의 득점 구하기\n",
    "train['INN_RUNS_CT'] = train.apply(lambda row:\n",
    "                                   (row['BAT_DEST_ID'] >= 4) + (row['RUN1_DEST_ID'] >= 4) + (row['RUN2_DEST_ID'] >= 4) + (row['RUN3_DEST_ID'] >= 4),\n",
    "                                   axis=1)\n",
    "\n",
    "expected_score = {}; states = []; inn_score = 0\n",
    "\n",
    "for idx, row in train.iterrows():\n",
    "    inn_score += row['INN_RUNS_CT']\n",
    "    \n",
    "    # 아웃 카운트가 바뀌는 지점.\n",
    "    if row['EVENT_OUTS_CT'] != 0:\n",
    "        states.append((row['OUTS_CT'], row['BASE1_RUN_FL'], row['BASE2_RUN_FL'], row['BASE3_RUN_FL']))\n",
    "    \n",
    "    # 이닝이 바뀌는 지점.\n",
    "    if row['INN_END_FL']:\n",
    "        for state in states:\n",
    "            if state not in expected_score:\n",
    "                expected_score[state] = [0, 0]\n",
    "            expected_score[state][0] += inn_score\n",
    "            expected_score[state][1] += 1\n",
    "        states.clear()\n",
    "        inn_score = 0\n",
    "\n",
    "for state in expected_score:\n",
    "    expected_score[state] = expected_score[state][0] / expected_score[state][1]"
   ]
  }
 ],
 "metadata": {
  "kernelspec": {
   "display_name": "Python 3",
   "language": "python",
   "name": "python3"
  },
  "language_info": {
   "codemirror_mode": {
    "name": "ipython",
    "version": 3
   },
   "file_extension": ".py",
   "mimetype": "text/x-python",
   "name": "python",
   "nbconvert_exporter": "python",
   "pygments_lexer": "ipython3",
   "version": "3.7.5"
  }
 },
 "nbformat": 4,
 "nbformat_minor": 4
}
