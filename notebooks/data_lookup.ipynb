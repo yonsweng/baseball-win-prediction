{
 "metadata": {
  "language_info": {
   "codemirror_mode": {
    "name": "ipython",
    "version": 3
   },
   "file_extension": ".py",
   "mimetype": "text/x-python",
   "name": "python",
   "nbconvert_exporter": "python",
   "pygments_lexer": "ipython3",
   "version": "3.8.5-final"
  },
  "orig_nbformat": 2,
  "kernelspec": {
   "name": "python3",
   "display_name": "Python 3.8.5 64-bit ('yeonung-baseball': conda)",
   "metadata": {
    "interpreter": {
     "hash": "a35cd283e1b31e9e247b1f75fcb0e13e184bbaabcc4ef79054635157e9935a07"
    }
   }
  }
 },
 "nbformat": 4,
 "nbformat_minor": 2,
 "cells": [
  {
   "cell_type": "code",
   "execution_count": 1,
   "metadata": {},
   "outputs": [],
   "source": [
    "import pandas as pd"
   ]
  },
  {
   "cell_type": "code",
   "execution_count": 2,
   "metadata": {},
   "outputs": [
    {
     "output_type": "execute_result",
     "data": {
      "text/plain": [
       "        GAME_ID AWAY_TEAM_ID  INN_CT  BAT_HOME_ID  OUTS_CT  BALLS_CT  \\\n",
       "0  ANA201004050          MIN       1            0        0         2   \n",
       "1  ANA201004050          MIN       1            0        1         0   \n",
       "2  ANA201004050          MIN       1            0        2         1   \n",
       "3  ANA201004050          MIN       1            1        0         3   \n",
       "4  ANA201004050          MIN       1            1        0         0   \n",
       "\n",
       "   STRIKES_CT PITCH_SEQ_TX  AWAY_SCORE_CT  HOME_SCORE_CT  ...  \\\n",
       "0           2     CSBFFBFC              0              0  ...   \n",
       "1           1           FX              0              0  ...   \n",
       "2           1          CBX              0              0  ...   \n",
       "3           2   BBCCFBFFFB              0              0  ...   \n",
       "4           1           CX              0              0  ...   \n",
       "\n",
       "  REMOVED_FOR_PH_BAT_FLD_CD PO1_FLD_CD PO2_FLD_CD PO3_FLD_CD ASS1_FLD_CD  \\\n",
       "0                         0          2          0          0           0   \n",
       "1                         0          3          0          0           4   \n",
       "2                         0          3          0          0           4   \n",
       "3                         0          0          0          0           0   \n",
       "4                         0          8          0          0           0   \n",
       "\n",
       "  ASS2_FLD_CD ASS3_FLD_CD ASS4_FLD_CD ASS5_FLD_CD EVENT_ID  \n",
       "0           0           0           0           0        1  \n",
       "1           0           0           0           0        2  \n",
       "2           0           0           0           0        3  \n",
       "3           0           0           0           0        4  \n",
       "4           0           0           0           0        5  \n",
       "\n",
       "[5 rows x 97 columns]"
      ],
      "text/html": "<div>\n<style scoped>\n    .dataframe tbody tr th:only-of-type {\n        vertical-align: middle;\n    }\n\n    .dataframe tbody tr th {\n        vertical-align: top;\n    }\n\n    .dataframe thead th {\n        text-align: right;\n    }\n</style>\n<table border=\"1\" class=\"dataframe\">\n  <thead>\n    <tr style=\"text-align: right;\">\n      <th></th>\n      <th>GAME_ID</th>\n      <th>AWAY_TEAM_ID</th>\n      <th>INN_CT</th>\n      <th>BAT_HOME_ID</th>\n      <th>OUTS_CT</th>\n      <th>BALLS_CT</th>\n      <th>STRIKES_CT</th>\n      <th>PITCH_SEQ_TX</th>\n      <th>AWAY_SCORE_CT</th>\n      <th>HOME_SCORE_CT</th>\n      <th>...</th>\n      <th>REMOVED_FOR_PH_BAT_FLD_CD</th>\n      <th>PO1_FLD_CD</th>\n      <th>PO2_FLD_CD</th>\n      <th>PO3_FLD_CD</th>\n      <th>ASS1_FLD_CD</th>\n      <th>ASS2_FLD_CD</th>\n      <th>ASS3_FLD_CD</th>\n      <th>ASS4_FLD_CD</th>\n      <th>ASS5_FLD_CD</th>\n      <th>EVENT_ID</th>\n    </tr>\n  </thead>\n  <tbody>\n    <tr>\n      <th>0</th>\n      <td>ANA201004050</td>\n      <td>MIN</td>\n      <td>1</td>\n      <td>0</td>\n      <td>0</td>\n      <td>2</td>\n      <td>2</td>\n      <td>CSBFFBFC</td>\n      <td>0</td>\n      <td>0</td>\n      <td>...</td>\n      <td>0</td>\n      <td>2</td>\n      <td>0</td>\n      <td>0</td>\n      <td>0</td>\n      <td>0</td>\n      <td>0</td>\n      <td>0</td>\n      <td>0</td>\n      <td>1</td>\n    </tr>\n    <tr>\n      <th>1</th>\n      <td>ANA201004050</td>\n      <td>MIN</td>\n      <td>1</td>\n      <td>0</td>\n      <td>1</td>\n      <td>0</td>\n      <td>1</td>\n      <td>FX</td>\n      <td>0</td>\n      <td>0</td>\n      <td>...</td>\n      <td>0</td>\n      <td>3</td>\n      <td>0</td>\n      <td>0</td>\n      <td>4</td>\n      <td>0</td>\n      <td>0</td>\n      <td>0</td>\n      <td>0</td>\n      <td>2</td>\n    </tr>\n    <tr>\n      <th>2</th>\n      <td>ANA201004050</td>\n      <td>MIN</td>\n      <td>1</td>\n      <td>0</td>\n      <td>2</td>\n      <td>1</td>\n      <td>1</td>\n      <td>CBX</td>\n      <td>0</td>\n      <td>0</td>\n      <td>...</td>\n      <td>0</td>\n      <td>3</td>\n      <td>0</td>\n      <td>0</td>\n      <td>4</td>\n      <td>0</td>\n      <td>0</td>\n      <td>0</td>\n      <td>0</td>\n      <td>3</td>\n    </tr>\n    <tr>\n      <th>3</th>\n      <td>ANA201004050</td>\n      <td>MIN</td>\n      <td>1</td>\n      <td>1</td>\n      <td>0</td>\n      <td>3</td>\n      <td>2</td>\n      <td>BBCCFBFFFB</td>\n      <td>0</td>\n      <td>0</td>\n      <td>...</td>\n      <td>0</td>\n      <td>0</td>\n      <td>0</td>\n      <td>0</td>\n      <td>0</td>\n      <td>0</td>\n      <td>0</td>\n      <td>0</td>\n      <td>0</td>\n      <td>4</td>\n    </tr>\n    <tr>\n      <th>4</th>\n      <td>ANA201004050</td>\n      <td>MIN</td>\n      <td>1</td>\n      <td>1</td>\n      <td>0</td>\n      <td>0</td>\n      <td>1</td>\n      <td>CX</td>\n      <td>0</td>\n      <td>0</td>\n      <td>...</td>\n      <td>0</td>\n      <td>8</td>\n      <td>0</td>\n      <td>0</td>\n      <td>0</td>\n      <td>0</td>\n      <td>0</td>\n      <td>0</td>\n      <td>0</td>\n      <td>5</td>\n    </tr>\n  </tbody>\n</table>\n<p>5 rows × 97 columns</p>\n</div>"
     },
     "metadata": {},
     "execution_count": 2
    }
   ],
   "source": [
    "data = pd.read_csv('../input/mlbplaybyplay2010s/all2010.csv')\n",
    "data = data[data['BAT_EVENT_FL'] == 'T'].reset_index(drop=True)\n",
    "data.head()"
   ]
  },
  {
   "cell_type": "code",
   "execution_count": 7,
   "metadata": {},
   "outputs": [
    {
     "output_type": "execute_result",
     "data": {
      "text/plain": [
       "   AWAY_TEAM_ID  HOME_TEAM_ID  GAME_END_FL  AWAY_START_PIT_ID  \\\n",
       "0            16             0        False                605   \n",
       "1            16             0        False                605   \n",
       "2            16             0        False                605   \n",
       "3            16             0        False                605   \n",
       "4            16             0        False                605   \n",
       "\n",
       "   HOME_START_PIT_ID  INN_END_FL  AWAY_START_BAT1_ID  AWAY_START_BAT2_ID  \\\n",
       "0                 21        True                 809                 393   \n",
       "1                 21        True                 809                 393   \n",
       "2                 21        True                 809                 393   \n",
       "3                 21        True                 809                 393   \n",
       "4                 21        True                 809                 393   \n",
       "\n",
       "   AWAY_START_BAT3_ID  AWAY_START_BAT4_ID  ...  END_INN_CT  END_BAT_HOME_ID  \\\n",
       "0                 546                 600  ...           1                0   \n",
       "1                 546                 600  ...           1                0   \n",
       "2                 546                 600  ...           1                1   \n",
       "3                 546                 600  ...           1                1   \n",
       "4                 546                 600  ...           1                1   \n",
       "\n",
       "   END_OUTS_CT  END_BASE1_RUN_ID  END_BASE2_RUN_ID  END_BASE3_RUN_ID  \\\n",
       "0            1                 0                 0                 0   \n",
       "1            2                 0                 0                 0   \n",
       "2            0                 0                 0                 0   \n",
       "3            0                26                 0                 0   \n",
       "4            1                 0                26                 0   \n",
       "\n",
       "   END_BAT_LINEUP_ID  END_PIT_LINEUP_ID  END_AWAY_SCORE_CT  END_HOME_SCORE_CT  \n",
       "0                  2                  0                  0                  0  \n",
       "1                  3                  0                  0                  0  \n",
       "2                  1                  0                  0                  0  \n",
       "3                  2                  0                  0                  0  \n",
       "4                  3                  0                  0                  0  \n",
       "\n",
       "[5 rows x 44 columns]"
      ],
      "text/html": "<div>\n<style scoped>\n    .dataframe tbody tr th:only-of-type {\n        vertical-align: middle;\n    }\n\n    .dataframe tbody tr th {\n        vertical-align: top;\n    }\n\n    .dataframe thead th {\n        text-align: right;\n    }\n</style>\n<table border=\"1\" class=\"dataframe\">\n  <thead>\n    <tr style=\"text-align: right;\">\n      <th></th>\n      <th>AWAY_TEAM_ID</th>\n      <th>HOME_TEAM_ID</th>\n      <th>GAME_END_FL</th>\n      <th>AWAY_START_PIT_ID</th>\n      <th>HOME_START_PIT_ID</th>\n      <th>INN_END_FL</th>\n      <th>AWAY_START_BAT1_ID</th>\n      <th>AWAY_START_BAT2_ID</th>\n      <th>AWAY_START_BAT3_ID</th>\n      <th>AWAY_START_BAT4_ID</th>\n      <th>...</th>\n      <th>END_INN_CT</th>\n      <th>END_BAT_HOME_ID</th>\n      <th>END_OUTS_CT</th>\n      <th>END_BASE1_RUN_ID</th>\n      <th>END_BASE2_RUN_ID</th>\n      <th>END_BASE3_RUN_ID</th>\n      <th>END_BAT_LINEUP_ID</th>\n      <th>END_PIT_LINEUP_ID</th>\n      <th>END_AWAY_SCORE_CT</th>\n      <th>END_HOME_SCORE_CT</th>\n    </tr>\n  </thead>\n  <tbody>\n    <tr>\n      <th>0</th>\n      <td>16</td>\n      <td>0</td>\n      <td>False</td>\n      <td>605</td>\n      <td>21</td>\n      <td>True</td>\n      <td>809</td>\n      <td>393</td>\n      <td>546</td>\n      <td>600</td>\n      <td>...</td>\n      <td>1</td>\n      <td>0</td>\n      <td>1</td>\n      <td>0</td>\n      <td>0</td>\n      <td>0</td>\n      <td>2</td>\n      <td>0</td>\n      <td>0</td>\n      <td>0</td>\n    </tr>\n    <tr>\n      <th>1</th>\n      <td>16</td>\n      <td>0</td>\n      <td>False</td>\n      <td>605</td>\n      <td>21</td>\n      <td>True</td>\n      <td>809</td>\n      <td>393</td>\n      <td>546</td>\n      <td>600</td>\n      <td>...</td>\n      <td>1</td>\n      <td>0</td>\n      <td>2</td>\n      <td>0</td>\n      <td>0</td>\n      <td>0</td>\n      <td>3</td>\n      <td>0</td>\n      <td>0</td>\n      <td>0</td>\n    </tr>\n    <tr>\n      <th>2</th>\n      <td>16</td>\n      <td>0</td>\n      <td>False</td>\n      <td>605</td>\n      <td>21</td>\n      <td>True</td>\n      <td>809</td>\n      <td>393</td>\n      <td>546</td>\n      <td>600</td>\n      <td>...</td>\n      <td>1</td>\n      <td>1</td>\n      <td>0</td>\n      <td>0</td>\n      <td>0</td>\n      <td>0</td>\n      <td>1</td>\n      <td>0</td>\n      <td>0</td>\n      <td>0</td>\n    </tr>\n    <tr>\n      <th>3</th>\n      <td>16</td>\n      <td>0</td>\n      <td>False</td>\n      <td>605</td>\n      <td>21</td>\n      <td>True</td>\n      <td>809</td>\n      <td>393</td>\n      <td>546</td>\n      <td>600</td>\n      <td>...</td>\n      <td>1</td>\n      <td>1</td>\n      <td>0</td>\n      <td>26</td>\n      <td>0</td>\n      <td>0</td>\n      <td>2</td>\n      <td>0</td>\n      <td>0</td>\n      <td>0</td>\n    </tr>\n    <tr>\n      <th>4</th>\n      <td>16</td>\n      <td>0</td>\n      <td>False</td>\n      <td>605</td>\n      <td>21</td>\n      <td>True</td>\n      <td>809</td>\n      <td>393</td>\n      <td>546</td>\n      <td>600</td>\n      <td>...</td>\n      <td>1</td>\n      <td>1</td>\n      <td>1</td>\n      <td>0</td>\n      <td>26</td>\n      <td>0</td>\n      <td>3</td>\n      <td>0</td>\n      <td>0</td>\n      <td>0</td>\n    </tr>\n  </tbody>\n</table>\n<p>5 rows × 44 columns</p>\n</div>"
     },
     "metadata": {},
     "execution_count": 7
    }
   ],
   "source": [
    "preprocessed = pd.read_csv('../input/preprocessed/all2010.csv')\n",
    "preprocessed.head()"
   ]
  },
  {
   "cell_type": "code",
   "execution_count": 8,
   "metadata": {},
   "outputs": [
    {
     "output_type": "execute_result",
     "data": {
      "text/plain": [
       "Index(['AWAY_TEAM_ID', 'HOME_TEAM_ID', 'GAME_END_FL', 'AWAY_START_PIT_ID',\n",
       "       'HOME_START_PIT_ID', 'INN_END_FL', 'AWAY_START_BAT1_ID',\n",
       "       'AWAY_START_BAT2_ID', 'AWAY_START_BAT3_ID', 'AWAY_START_BAT4_ID',\n",
       "       'AWAY_START_BAT5_ID', 'AWAY_START_BAT6_ID', 'AWAY_START_BAT7_ID',\n",
       "       'AWAY_START_BAT8_ID', 'AWAY_START_BAT9_ID', 'HOME_START_BAT1_ID',\n",
       "       'HOME_START_BAT2_ID', 'HOME_START_BAT3_ID', 'HOME_START_BAT4_ID',\n",
       "       'HOME_START_BAT5_ID', 'HOME_START_BAT6_ID', 'HOME_START_BAT7_ID',\n",
       "       'HOME_START_BAT8_ID', 'HOME_START_BAT9_ID', 'INN_CT', 'BAT_HOME_ID',\n",
       "       'OUTS_CT', 'BASE1_RUN_ID', 'BASE2_RUN_ID', 'BASE3_RUN_ID',\n",
       "       'BAT_LINEUP_ID', 'PIT_LINEUP_ID', 'AWAY_SCORE_CT', 'HOME_SCORE_CT',\n",
       "       'END_INN_CT', 'END_BAT_HOME_ID', 'END_OUTS_CT', 'END_BASE1_RUN_ID',\n",
       "       'END_BASE2_RUN_ID', 'END_BASE3_RUN_ID', 'END_BAT_LINEUP_ID',\n",
       "       'END_PIT_LINEUP_ID', 'END_AWAY_SCORE_CT', 'END_HOME_SCORE_CT'],\n",
       "      dtype='object')"
      ]
     },
     "metadata": {},
     "execution_count": 8
    }
   ],
   "source": [
    "preprocessed.columns"
   ]
  },
  {
   "cell_type": "code",
   "execution_count": 3,
   "metadata": {},
   "outputs": [
    {
     "output_type": "execute_result",
     "data": {
      "text/plain": [
       "        GAME_ID AWAY_TEAM_ID  INN_CT  BAT_HOME_ID  OUTS_CT  BALLS_CT  \\\n",
       "0  ANA201004050          MIN       1            0        0         2   \n",
       "\n",
       "   STRIKES_CT PITCH_SEQ_TX  AWAY_SCORE_CT  HOME_SCORE_CT  ...  \\\n",
       "0           2     CSBFFBFC              0              0  ...   \n",
       "\n",
       "  REMOVED_FOR_PH_BAT_FLD_CD PO1_FLD_CD PO2_FLD_CD PO3_FLD_CD ASS1_FLD_CD  \\\n",
       "0                         0          2          0          0           0   \n",
       "\n",
       "  ASS2_FLD_CD ASS3_FLD_CD ASS4_FLD_CD ASS5_FLD_CD EVENT_ID  \n",
       "0           0           0           0           0        1  \n",
       "\n",
       "[1 rows x 97 columns]"
      ],
      "text/html": "<div>\n<style scoped>\n    .dataframe tbody tr th:only-of-type {\n        vertical-align: middle;\n    }\n\n    .dataframe tbody tr th {\n        vertical-align: top;\n    }\n\n    .dataframe thead th {\n        text-align: right;\n    }\n</style>\n<table border=\"1\" class=\"dataframe\">\n  <thead>\n    <tr style=\"text-align: right;\">\n      <th></th>\n      <th>GAME_ID</th>\n      <th>AWAY_TEAM_ID</th>\n      <th>INN_CT</th>\n      <th>BAT_HOME_ID</th>\n      <th>OUTS_CT</th>\n      <th>BALLS_CT</th>\n      <th>STRIKES_CT</th>\n      <th>PITCH_SEQ_TX</th>\n      <th>AWAY_SCORE_CT</th>\n      <th>HOME_SCORE_CT</th>\n      <th>...</th>\n      <th>REMOVED_FOR_PH_BAT_FLD_CD</th>\n      <th>PO1_FLD_CD</th>\n      <th>PO2_FLD_CD</th>\n      <th>PO3_FLD_CD</th>\n      <th>ASS1_FLD_CD</th>\n      <th>ASS2_FLD_CD</th>\n      <th>ASS3_FLD_CD</th>\n      <th>ASS4_FLD_CD</th>\n      <th>ASS5_FLD_CD</th>\n      <th>EVENT_ID</th>\n    </tr>\n  </thead>\n  <tbody>\n    <tr>\n      <th>0</th>\n      <td>ANA201004050</td>\n      <td>MIN</td>\n      <td>1</td>\n      <td>0</td>\n      <td>0</td>\n      <td>2</td>\n      <td>2</td>\n      <td>CSBFFBFC</td>\n      <td>0</td>\n      <td>0</td>\n      <td>...</td>\n      <td>0</td>\n      <td>2</td>\n      <td>0</td>\n      <td>0</td>\n      <td>0</td>\n      <td>0</td>\n      <td>0</td>\n      <td>0</td>\n      <td>0</td>\n      <td>1</td>\n    </tr>\n  </tbody>\n</table>\n<p>1 rows × 97 columns</p>\n</div>"
     },
     "metadata": {},
     "execution_count": 3
    }
   ],
   "source": [
    "d = data.iloc[[0]]\n",
    "d"
   ]
  },
  {
   "cell_type": "code",
   "execution_count": 5,
   "metadata": {},
   "outputs": [
    {
     "output_type": "execute_result",
     "data": {
      "text/plain": [
       "array([0])"
      ]
     },
     "metadata": {},
     "execution_count": 5
    }
   ],
   "source": [
    "d['INN_CT'].where(d['BAT_HOME_ID'] == 1, d['OUTS_CT']).values"
   ]
  },
  {
   "cell_type": "code",
   "execution_count": 7,
   "metadata": {},
   "outputs": [
    {
     "output_type": "execute_result",
     "data": {
      "text/plain": [
       "3170"
      ]
     },
     "metadata": {},
     "execution_count": 7
    }
   ],
   "source": [
    "len(list(data['BAT_ID'].unique()) + list(data['BASE1_RUN_ID'].unique()) + list(data['BASE2_RUN_ID'].unique()) + list(data['BASE3_RUN_ID'].unique()))"
   ]
  },
  {
   "cell_type": "code",
   "execution_count": 46,
   "metadata": {},
   "outputs": [
    {
     "output_type": "execute_result",
     "data": {
      "text/plain": [
       "      BAT_ID BASE1_RUN_ID BASE2_RUN_ID BASE3_RUN_ID\n",
       "0   spand001          NaN          NaN          NaN\n",
       "1   hudso001          NaN          NaN          NaN\n",
       "2   mauej001          NaN          NaN          NaN\n",
       "3   aybae001          NaN          NaN          NaN\n",
       "4   abreb001     aybae001          NaN          NaN\n",
       "5   huntt001          NaN     aybae001          NaN\n",
       "6   matsh001     huntt001     aybae001          NaN\n",
       "7   morak001     huntt001     aybae001          NaN\n",
       "8   rivej001     morak001     huntt001          NaN\n",
       "9   kendh001     rivej001     morak001          NaN\n",
       "10  mornj001          NaN          NaN          NaN\n",
       "11  cuddm001     mornj001          NaN          NaN\n",
       "12  kubej002     mornj001          NaN          NaN\n",
       "13  yound003     mornj001          NaN          NaN\n",
       "14  hardj003          NaN          NaN          NaN\n",
       "15  woodb003          NaN          NaN          NaN\n",
       "16  mathj001          NaN          NaN          NaN\n",
       "17  aybae001          NaN          NaN          NaN\n",
       "18  abreb001          NaN          NaN          NaN\n",
       "19  puntn001          NaN          NaN          NaN"
      ],
      "text/html": "<div>\n<style scoped>\n    .dataframe tbody tr th:only-of-type {\n        vertical-align: middle;\n    }\n\n    .dataframe tbody tr th {\n        vertical-align: top;\n    }\n\n    .dataframe thead th {\n        text-align: right;\n    }\n</style>\n<table border=\"1\" class=\"dataframe\">\n  <thead>\n    <tr style=\"text-align: right;\">\n      <th></th>\n      <th>BAT_ID</th>\n      <th>BASE1_RUN_ID</th>\n      <th>BASE2_RUN_ID</th>\n      <th>BASE3_RUN_ID</th>\n    </tr>\n  </thead>\n  <tbody>\n    <tr>\n      <th>0</th>\n      <td>spand001</td>\n      <td>NaN</td>\n      <td>NaN</td>\n      <td>NaN</td>\n    </tr>\n    <tr>\n      <th>1</th>\n      <td>hudso001</td>\n      <td>NaN</td>\n      <td>NaN</td>\n      <td>NaN</td>\n    </tr>\n    <tr>\n      <th>2</th>\n      <td>mauej001</td>\n      <td>NaN</td>\n      <td>NaN</td>\n      <td>NaN</td>\n    </tr>\n    <tr>\n      <th>3</th>\n      <td>aybae001</td>\n      <td>NaN</td>\n      <td>NaN</td>\n      <td>NaN</td>\n    </tr>\n    <tr>\n      <th>4</th>\n      <td>abreb001</td>\n      <td>aybae001</td>\n      <td>NaN</td>\n      <td>NaN</td>\n    </tr>\n    <tr>\n      <th>5</th>\n      <td>huntt001</td>\n      <td>NaN</td>\n      <td>aybae001</td>\n      <td>NaN</td>\n    </tr>\n    <tr>\n      <th>6</th>\n      <td>matsh001</td>\n      <td>huntt001</td>\n      <td>aybae001</td>\n      <td>NaN</td>\n    </tr>\n    <tr>\n      <th>7</th>\n      <td>morak001</td>\n      <td>huntt001</td>\n      <td>aybae001</td>\n      <td>NaN</td>\n    </tr>\n    <tr>\n      <th>8</th>\n      <td>rivej001</td>\n      <td>morak001</td>\n      <td>huntt001</td>\n      <td>NaN</td>\n    </tr>\n    <tr>\n      <th>9</th>\n      <td>kendh001</td>\n      <td>rivej001</td>\n      <td>morak001</td>\n      <td>NaN</td>\n    </tr>\n    <tr>\n      <th>10</th>\n      <td>mornj001</td>\n      <td>NaN</td>\n      <td>NaN</td>\n      <td>NaN</td>\n    </tr>\n    <tr>\n      <th>11</th>\n      <td>cuddm001</td>\n      <td>mornj001</td>\n      <td>NaN</td>\n      <td>NaN</td>\n    </tr>\n    <tr>\n      <th>12</th>\n      <td>kubej002</td>\n      <td>mornj001</td>\n      <td>NaN</td>\n      <td>NaN</td>\n    </tr>\n    <tr>\n      <th>13</th>\n      <td>yound003</td>\n      <td>mornj001</td>\n      <td>NaN</td>\n      <td>NaN</td>\n    </tr>\n    <tr>\n      <th>14</th>\n      <td>hardj003</td>\n      <td>NaN</td>\n      <td>NaN</td>\n      <td>NaN</td>\n    </tr>\n    <tr>\n      <th>15</th>\n      <td>woodb003</td>\n      <td>NaN</td>\n      <td>NaN</td>\n      <td>NaN</td>\n    </tr>\n    <tr>\n      <th>16</th>\n      <td>mathj001</td>\n      <td>NaN</td>\n      <td>NaN</td>\n      <td>NaN</td>\n    </tr>\n    <tr>\n      <th>17</th>\n      <td>aybae001</td>\n      <td>NaN</td>\n      <td>NaN</td>\n      <td>NaN</td>\n    </tr>\n    <tr>\n      <th>18</th>\n      <td>abreb001</td>\n      <td>NaN</td>\n      <td>NaN</td>\n      <td>NaN</td>\n    </tr>\n    <tr>\n      <th>19</th>\n      <td>puntn001</td>\n      <td>NaN</td>\n      <td>NaN</td>\n      <td>NaN</td>\n    </tr>\n  </tbody>\n</table>\n</div>"
     },
     "metadata": {},
     "execution_count": 46
    }
   ],
   "source": [
    "data[['BAT_ID', 'BASE1_RUN_ID', 'BASE2_RUN_ID', 'BASE3_RUN_ID']].head(20)"
   ]
  },
  {
   "cell_type": "code",
   "execution_count": 47,
   "metadata": {},
   "outputs": [],
   "source": [
    "import numpy as np\n",
    "data[['BAT_ID', 'BASE1_RUN_ID', 'BASE2_RUN_ID', 'BASE3_RUN_ID']] = \\\n",
    "    data[['BAT_ID', 'BASE1_RUN_ID', 'BASE2_RUN_ID', 'BASE3_RUN_ID']].fillna('')\n",
    "categories = np.unique(data[['BAT_ID', 'BASE1_RUN_ID', 'BASE2_RUN_ID', 'BASE3_RUN_ID']].values.reshape(-1)).reshape(1, -1)"
   ]
  },
  {
   "cell_type": "code",
   "execution_count": 40,
   "metadata": {},
   "outputs": [],
   "source": [
    "# categories"
   ]
  },
  {
   "cell_type": "code",
   "execution_count": 48,
   "metadata": {},
   "outputs": [
    {
     "output_type": "execute_result",
     "data": {
      "text/plain": [
       "    BAT_ID  BASE1_RUN_ID  BASE2_RUN_ID  BASE3_RUN_ID\n",
       "0    809.0           0.0           0.0           0.0\n",
       "1    393.0           0.0           0.0           0.0\n",
       "2    546.0           0.0           0.0           0.0\n",
       "3     26.0           0.0           0.0           0.0\n",
       "4      2.0          26.0           0.0           0.0\n",
       "5    402.0           0.0          26.0           0.0\n",
       "6    542.0         402.0          26.0           0.0\n",
       "7    595.0         402.0          26.0           0.0\n",
       "8    725.0         595.0         402.0           0.0\n",
       "9    448.0         725.0         595.0           0.0\n",
       "10   600.0           0.0           0.0           0.0\n",
       "11   191.0         600.0           0.0           0.0\n",
       "12   463.0         600.0           0.0           0.0\n",
       "13   934.0         600.0           0.0           0.0\n",
       "14   348.0           0.0           0.0           0.0\n",
       "15   924.0           0.0           0.0           0.0\n",
       "16   539.0           0.0           0.0           0.0\n",
       "17    26.0           0.0           0.0           0.0\n",
       "18     2.0           0.0           0.0           0.0\n",
       "19   693.0           0.0           0.0           0.0"
      ],
      "text/html": "<div>\n<style scoped>\n    .dataframe tbody tr th:only-of-type {\n        vertical-align: middle;\n    }\n\n    .dataframe tbody tr th {\n        vertical-align: top;\n    }\n\n    .dataframe thead th {\n        text-align: right;\n    }\n</style>\n<table border=\"1\" class=\"dataframe\">\n  <thead>\n    <tr style=\"text-align: right;\">\n      <th></th>\n      <th>BAT_ID</th>\n      <th>BASE1_RUN_ID</th>\n      <th>BASE2_RUN_ID</th>\n      <th>BASE3_RUN_ID</th>\n    </tr>\n  </thead>\n  <tbody>\n    <tr>\n      <th>0</th>\n      <td>809.0</td>\n      <td>0.0</td>\n      <td>0.0</td>\n      <td>0.0</td>\n    </tr>\n    <tr>\n      <th>1</th>\n      <td>393.0</td>\n      <td>0.0</td>\n      <td>0.0</td>\n      <td>0.0</td>\n    </tr>\n    <tr>\n      <th>2</th>\n      <td>546.0</td>\n      <td>0.0</td>\n      <td>0.0</td>\n      <td>0.0</td>\n    </tr>\n    <tr>\n      <th>3</th>\n      <td>26.0</td>\n      <td>0.0</td>\n      <td>0.0</td>\n      <td>0.0</td>\n    </tr>\n    <tr>\n      <th>4</th>\n      <td>2.0</td>\n      <td>26.0</td>\n      <td>0.0</td>\n      <td>0.0</td>\n    </tr>\n    <tr>\n      <th>5</th>\n      <td>402.0</td>\n      <td>0.0</td>\n      <td>26.0</td>\n      <td>0.0</td>\n    </tr>\n    <tr>\n      <th>6</th>\n      <td>542.0</td>\n      <td>402.0</td>\n      <td>26.0</td>\n      <td>0.0</td>\n    </tr>\n    <tr>\n      <th>7</th>\n      <td>595.0</td>\n      <td>402.0</td>\n      <td>26.0</td>\n      <td>0.0</td>\n    </tr>\n    <tr>\n      <th>8</th>\n      <td>725.0</td>\n      <td>595.0</td>\n      <td>402.0</td>\n      <td>0.0</td>\n    </tr>\n    <tr>\n      <th>9</th>\n      <td>448.0</td>\n      <td>725.0</td>\n      <td>595.0</td>\n      <td>0.0</td>\n    </tr>\n    <tr>\n      <th>10</th>\n      <td>600.0</td>\n      <td>0.0</td>\n      <td>0.0</td>\n      <td>0.0</td>\n    </tr>\n    <tr>\n      <th>11</th>\n      <td>191.0</td>\n      <td>600.0</td>\n      <td>0.0</td>\n      <td>0.0</td>\n    </tr>\n    <tr>\n      <th>12</th>\n      <td>463.0</td>\n      <td>600.0</td>\n      <td>0.0</td>\n      <td>0.0</td>\n    </tr>\n    <tr>\n      <th>13</th>\n      <td>934.0</td>\n      <td>600.0</td>\n      <td>0.0</td>\n      <td>0.0</td>\n    </tr>\n    <tr>\n      <th>14</th>\n      <td>348.0</td>\n      <td>0.0</td>\n      <td>0.0</td>\n      <td>0.0</td>\n    </tr>\n    <tr>\n      <th>15</th>\n      <td>924.0</td>\n      <td>0.0</td>\n      <td>0.0</td>\n      <td>0.0</td>\n    </tr>\n    <tr>\n      <th>16</th>\n      <td>539.0</td>\n      <td>0.0</td>\n      <td>0.0</td>\n      <td>0.0</td>\n    </tr>\n    <tr>\n      <th>17</th>\n      <td>26.0</td>\n      <td>0.0</td>\n      <td>0.0</td>\n      <td>0.0</td>\n    </tr>\n    <tr>\n      <th>18</th>\n      <td>2.0</td>\n      <td>0.0</td>\n      <td>0.0</td>\n      <td>0.0</td>\n    </tr>\n    <tr>\n      <th>19</th>\n      <td>693.0</td>\n      <td>0.0</td>\n      <td>0.0</td>\n      <td>0.0</td>\n    </tr>\n  </tbody>\n</table>\n</div>"
     },
     "metadata": {},
     "execution_count": 48
    }
   ],
   "source": [
    "from sklearn.preprocessing import OrdinalEncoder\n",
    "\n",
    "bat_encoder = OrdinalEncoder()\n",
    "bat_encoder.categories_ = categories\n",
    "\n",
    "data['BAT_ID'] = bat_encoder.transform(data['BAT_ID'].values.reshape(-1, 1)).squeeze()\n",
    "data['BASE1_RUN_ID'] = bat_encoder.transform(data['BASE1_RUN_ID'].values.reshape(-1, 1)).squeeze()\n",
    "data['BASE2_RUN_ID'] = bat_encoder.transform(data['BASE2_RUN_ID'].values.reshape(-1, 1)).squeeze()\n",
    "data['BASE3_RUN_ID'] = bat_encoder.transform(data['BASE3_RUN_ID'].values.reshape(-1, 1)).squeeze()\n",
    "\n",
    "data[['BAT_ID', 'BASE1_RUN_ID', 'BASE2_RUN_ID', 'BASE3_RUN_ID']].head(20)"
   ]
  },
  {
   "cell_type": "code",
   "execution_count": 13,
   "metadata": {},
   "outputs": [
    {
     "output_type": "execute_result",
     "data": {
      "text/plain": [
       "Index(['GAME_ID', 'AWAY_TEAM_ID', 'INN_CT', 'BAT_HOME_ID', 'OUTS_CT',\n",
       "       'BALLS_CT', 'STRIKES_CT', 'PITCH_SEQ_TX', 'AWAY_SCORE_CT',\n",
       "       'HOME_SCORE_CT', 'BAT_ID', 'BAT_HAND_CD', 'RESP_BAT_ID',\n",
       "       'RESP_BAT_HAND_CD', 'PIT_ID', 'PIT_HAND_CD', 'RESP_PIT_ID',\n",
       "       'RESP_PIT_HAND_CD', 'POS2_FLD_ID', 'POS3_FLD_ID', 'POS4_FLD_ID',\n",
       "       'POS5_FLD_ID', 'POS6_FLD_ID', 'POS7_FLD_ID', 'POS8_FLD_ID',\n",
       "       'POS9_FLD_ID', 'BASE1_RUN_ID', 'BASE2_RUN_ID', 'BASE3_RUN_ID',\n",
       "       'EVENT_TX', 'LEADOFF_FL', 'PH_FL', 'BAT_FLD_CD', 'BAT_LINEUP_ID',\n",
       "       'EVENT_CD', 'BAT_EVENT_FL', 'AB_FL', 'H_FL', 'SH_FL', 'SF_FL',\n",
       "       'EVENT_OUTS_CT', 'DP_FL', 'TP_FL', 'RBI_CT', 'WP_FL', 'PB_FL', 'FLD_CD',\n",
       "       'BATTEDBALL_CD', 'BUNT_FL', 'FOUL_FL', 'BATTEDBALL_LOC_TX', 'ERR_CT',\n",
       "       'ERR1_FLD_CD', 'ERR1_CD', 'ERR2_FLD_CD', 'ERR2_CD', 'ERR3_FLD_CD',\n",
       "       'ERR3_CD', 'BAT_DEST_ID', 'RUN1_DEST_ID', 'RUN2_DEST_ID',\n",
       "       'RUN3_DEST_ID', 'BAT_PLAY_TX', 'RUN1_PLAY_TX', 'RUN2_PLAY_TX',\n",
       "       'RUN3_PLAY_TX', 'RUN1_SB_FL', 'RUN2_SB_FL', 'RUN3_SB_FL', 'RUN1_CS_FL',\n",
       "       'RUN2_CS_FL', 'RUN3_CS_FL', 'RUN1_PK_FL', 'RUN2_PK_FL', 'RUN3_PK_FL',\n",
       "       'RUN1_RESP_PIT_ID', 'RUN2_RESP_PIT_ID', 'RUN3_RESP_PIT_ID',\n",
       "       'GAME_NEW_FL', 'GAME_END_FL', 'PR_RUN1_FL', 'PR_RUN2_FL', 'PR_RUN3_FL',\n",
       "       'REMOVED_FOR_PR_RUN1_ID', 'REMOVED_FOR_PR_RUN2_ID',\n",
       "       'REMOVED_FOR_PR_RUN3_ID', 'REMOVED_FOR_PH_BAT_ID',\n",
       "       'REMOVED_FOR_PH_BAT_FLD_CD', 'PO1_FLD_CD', 'PO2_FLD_CD', 'PO3_FLD_CD',\n",
       "       'ASS1_FLD_CD', 'ASS2_FLD_CD', 'ASS3_FLD_CD', 'ASS4_FLD_CD',\n",
       "       'ASS5_FLD_CD', 'EVENT_ID'],\n",
       "      dtype='object')"
      ]
     },
     "metadata": {},
     "execution_count": 13
    }
   ],
   "source": [
    "data.columns"
   ]
  },
  {
   "cell_type": "code",
   "execution_count": 14,
   "metadata": {},
   "outputs": [
    {
     "output_type": "execute_result",
     "data": {
      "text/plain": [
       "{0: 'MIN',\n",
       " 1: 'OAK',\n",
       " 2: 'DET',\n",
       " 3: 'NYA',\n",
       " 4: 'CLE',\n",
       " 5: 'TBA',\n",
       " 6: 'TOR',\n",
       " 7: 'SEA',\n",
       " 8: 'MIL',\n",
       " 9: 'LAN',\n",
       " 10: 'COL',\n",
       " 11: 'TEX',\n",
       " 12: 'KCA',\n",
       " 13: 'BOS',\n",
       " 14: 'BAL',\n",
       " 15: 'CHA',\n",
       " 16: 'SDN',\n",
       " 17: 'PIT',\n",
       " 18: 'SLN',\n",
       " 19: 'PHI',\n",
       " 20: 'SFN',\n",
       " 21: 'ATL',\n",
       " 22: 'CHN',\n",
       " 23: 'FLO',\n",
       " 24: 'NYN',\n",
       " 25: 'WAS',\n",
       " 26: 'CIN',\n",
       " 27: 'HOU',\n",
       " 28: 'ARI',\n",
       " 29: 'ANA'}"
      ]
     },
     "metadata": {},
     "execution_count": 14
    }
   ],
   "source": [
    "dict(enumerate(data.AWAY_TEAM_ID.unique()))"
   ]
  },
  {
   "cell_type": "code",
   "execution_count": 15,
   "metadata": {},
   "outputs": [],
   "source": [
    "games = {game_id: df for game_id, df in data.groupby(data['GAME_ID'])}"
   ]
  },
  {
   "cell_type": "code",
   "execution_count": 16,
   "metadata": {},
   "outputs": [
    {
     "output_type": "execute_result",
     "data": {
      "text/plain": [
       "2430"
      ]
     },
     "metadata": {},
     "execution_count": 16
    }
   ],
   "source": [
    "len(games.keys())"
   ]
  },
  {
   "cell_type": "code",
   "execution_count": 17,
   "metadata": {},
   "outputs": [],
   "source": [
    "keys = list(games.keys())"
   ]
  },
  {
   "cell_type": "code",
   "execution_count": 18,
   "metadata": {},
   "outputs": [
    {
     "output_type": "execute_result",
     "data": {
      "text/plain": [
       "'ANA201004060'"
      ]
     },
     "metadata": {},
     "execution_count": 18
    }
   ],
   "source": [
    "first_game = keys[1]\n",
    "first_game"
   ]
  },
  {
   "cell_type": "code",
   "execution_count": 19,
   "metadata": {},
   "outputs": [
    {
     "output_type": "execute_result",
     "data": {
      "text/plain": [
       "          GAME_ID AWAY_TEAM_ID  INN_CT  BAT_HOME_ID  OUTS_CT  BALLS_CT  \\\n",
       "73   ANA201004060          MIN       1            0        0         3   \n",
       "74   ANA201004060          MIN       1            0        0         0   \n",
       "75   ANA201004060          MIN       1            0        1         1   \n",
       "76   ANA201004060          MIN       1            0        1         1   \n",
       "77   ANA201004060          MIN       1            0        1         0   \n",
       "..            ...          ...     ...          ...      ...       ...   \n",
       "143  ANA201004060          MIN       9            0        1         1   \n",
       "144  ANA201004060          MIN       9            0        2         2   \n",
       "145  ANA201004060          MIN       9            1        0         0   \n",
       "146  ANA201004060          MIN       9            1        1         3   \n",
       "147  ANA201004060          MIN       9            1        2         2   \n",
       "\n",
       "     STRIKES_CT PITCH_SEQ_TX  AWAY_SCORE_CT  HOME_SCORE_CT  ...  \\\n",
       "73            1        BBBCB              0              0  ...   \n",
       "74            0            X              0              0  ...   \n",
       "75            1          BCX              0              0  ...   \n",
       "76            2         CFBX              2              0  ...   \n",
       "77            1           CX              2              0  ...   \n",
       "..          ...          ...            ...            ...  ...   \n",
       "143           0           BX              5              3  ...   \n",
       "144           2        CBCBX              5              3  ...   \n",
       "145           2         .CFS              5              3  ...   \n",
       "146           2     .BCFFBBX              5              3  ...   \n",
       "147           2       CBCFBC              5              3  ...   \n",
       "\n",
       "    REMOVED_FOR_PH_BAT_FLD_CD PO1_FLD_CD PO2_FLD_CD PO3_FLD_CD ASS1_FLD_CD  \\\n",
       "73                          0          0          0          0           0   \n",
       "74                          0          6          0          0           3   \n",
       "75                          0          0          0          0           0   \n",
       "76                          0          0          0          0           0   \n",
       "77                          0          0          0          0           0   \n",
       "..                        ...        ...        ...        ...         ...   \n",
       "143                         0          3          0          0           1   \n",
       "144                         0          3          0          0           4   \n",
       "145                         0          2          0          0           0   \n",
       "146                         2          5          0          0           0   \n",
       "147                         0          2          0          0           0   \n",
       "\n",
       "    ASS2_FLD_CD ASS3_FLD_CD ASS4_FLD_CD ASS5_FLD_CD EVENT_ID  \n",
       "73            0           0           0           0        1  \n",
       "74            0           0           0           0        2  \n",
       "75            0           0           0           0        3  \n",
       "76            0           0           0           0        4  \n",
       "77            0           0           0           0        5  \n",
       "..          ...         ...         ...         ...      ...  \n",
       "143           0           0           0           0       72  \n",
       "144           0           0           0           0       73  \n",
       "145           0           0           0           0       74  \n",
       "146           0           0           0           0       75  \n",
       "147           0           0           0           0       76  \n",
       "\n",
       "[75 rows x 97 columns]"
      ],
      "text/html": "<div>\n<style scoped>\n    .dataframe tbody tr th:only-of-type {\n        vertical-align: middle;\n    }\n\n    .dataframe tbody tr th {\n        vertical-align: top;\n    }\n\n    .dataframe thead th {\n        text-align: right;\n    }\n</style>\n<table border=\"1\" class=\"dataframe\">\n  <thead>\n    <tr style=\"text-align: right;\">\n      <th></th>\n      <th>GAME_ID</th>\n      <th>AWAY_TEAM_ID</th>\n      <th>INN_CT</th>\n      <th>BAT_HOME_ID</th>\n      <th>OUTS_CT</th>\n      <th>BALLS_CT</th>\n      <th>STRIKES_CT</th>\n      <th>PITCH_SEQ_TX</th>\n      <th>AWAY_SCORE_CT</th>\n      <th>HOME_SCORE_CT</th>\n      <th>...</th>\n      <th>REMOVED_FOR_PH_BAT_FLD_CD</th>\n      <th>PO1_FLD_CD</th>\n      <th>PO2_FLD_CD</th>\n      <th>PO3_FLD_CD</th>\n      <th>ASS1_FLD_CD</th>\n      <th>ASS2_FLD_CD</th>\n      <th>ASS3_FLD_CD</th>\n      <th>ASS4_FLD_CD</th>\n      <th>ASS5_FLD_CD</th>\n      <th>EVENT_ID</th>\n    </tr>\n  </thead>\n  <tbody>\n    <tr>\n      <th>73</th>\n      <td>ANA201004060</td>\n      <td>MIN</td>\n      <td>1</td>\n      <td>0</td>\n      <td>0</td>\n      <td>3</td>\n      <td>1</td>\n      <td>BBBCB</td>\n      <td>0</td>\n      <td>0</td>\n      <td>...</td>\n      <td>0</td>\n      <td>0</td>\n      <td>0</td>\n      <td>0</td>\n      <td>0</td>\n      <td>0</td>\n      <td>0</td>\n      <td>0</td>\n      <td>0</td>\n      <td>1</td>\n    </tr>\n    <tr>\n      <th>74</th>\n      <td>ANA201004060</td>\n      <td>MIN</td>\n      <td>1</td>\n      <td>0</td>\n      <td>0</td>\n      <td>0</td>\n      <td>0</td>\n      <td>X</td>\n      <td>0</td>\n      <td>0</td>\n      <td>...</td>\n      <td>0</td>\n      <td>6</td>\n      <td>0</td>\n      <td>0</td>\n      <td>3</td>\n      <td>0</td>\n      <td>0</td>\n      <td>0</td>\n      <td>0</td>\n      <td>2</td>\n    </tr>\n    <tr>\n      <th>75</th>\n      <td>ANA201004060</td>\n      <td>MIN</td>\n      <td>1</td>\n      <td>0</td>\n      <td>1</td>\n      <td>1</td>\n      <td>1</td>\n      <td>BCX</td>\n      <td>0</td>\n      <td>0</td>\n      <td>...</td>\n      <td>0</td>\n      <td>0</td>\n      <td>0</td>\n      <td>0</td>\n      <td>0</td>\n      <td>0</td>\n      <td>0</td>\n      <td>0</td>\n      <td>0</td>\n      <td>3</td>\n    </tr>\n    <tr>\n      <th>76</th>\n      <td>ANA201004060</td>\n      <td>MIN</td>\n      <td>1</td>\n      <td>0</td>\n      <td>1</td>\n      <td>1</td>\n      <td>2</td>\n      <td>CFBX</td>\n      <td>2</td>\n      <td>0</td>\n      <td>...</td>\n      <td>0</td>\n      <td>0</td>\n      <td>0</td>\n      <td>0</td>\n      <td>0</td>\n      <td>0</td>\n      <td>0</td>\n      <td>0</td>\n      <td>0</td>\n      <td>4</td>\n    </tr>\n    <tr>\n      <th>77</th>\n      <td>ANA201004060</td>\n      <td>MIN</td>\n      <td>1</td>\n      <td>0</td>\n      <td>1</td>\n      <td>0</td>\n      <td>1</td>\n      <td>CX</td>\n      <td>2</td>\n      <td>0</td>\n      <td>...</td>\n      <td>0</td>\n      <td>0</td>\n      <td>0</td>\n      <td>0</td>\n      <td>0</td>\n      <td>0</td>\n      <td>0</td>\n      <td>0</td>\n      <td>0</td>\n      <td>5</td>\n    </tr>\n    <tr>\n      <th>...</th>\n      <td>...</td>\n      <td>...</td>\n      <td>...</td>\n      <td>...</td>\n      <td>...</td>\n      <td>...</td>\n      <td>...</td>\n      <td>...</td>\n      <td>...</td>\n      <td>...</td>\n      <td>...</td>\n      <td>...</td>\n      <td>...</td>\n      <td>...</td>\n      <td>...</td>\n      <td>...</td>\n      <td>...</td>\n      <td>...</td>\n      <td>...</td>\n      <td>...</td>\n      <td>...</td>\n    </tr>\n    <tr>\n      <th>143</th>\n      <td>ANA201004060</td>\n      <td>MIN</td>\n      <td>9</td>\n      <td>0</td>\n      <td>1</td>\n      <td>1</td>\n      <td>0</td>\n      <td>BX</td>\n      <td>5</td>\n      <td>3</td>\n      <td>...</td>\n      <td>0</td>\n      <td>3</td>\n      <td>0</td>\n      <td>0</td>\n      <td>1</td>\n      <td>0</td>\n      <td>0</td>\n      <td>0</td>\n      <td>0</td>\n      <td>72</td>\n    </tr>\n    <tr>\n      <th>144</th>\n      <td>ANA201004060</td>\n      <td>MIN</td>\n      <td>9</td>\n      <td>0</td>\n      <td>2</td>\n      <td>2</td>\n      <td>2</td>\n      <td>CBCBX</td>\n      <td>5</td>\n      <td>3</td>\n      <td>...</td>\n      <td>0</td>\n      <td>3</td>\n      <td>0</td>\n      <td>0</td>\n      <td>4</td>\n      <td>0</td>\n      <td>0</td>\n      <td>0</td>\n      <td>0</td>\n      <td>73</td>\n    </tr>\n    <tr>\n      <th>145</th>\n      <td>ANA201004060</td>\n      <td>MIN</td>\n      <td>9</td>\n      <td>1</td>\n      <td>0</td>\n      <td>0</td>\n      <td>2</td>\n      <td>.CFS</td>\n      <td>5</td>\n      <td>3</td>\n      <td>...</td>\n      <td>0</td>\n      <td>2</td>\n      <td>0</td>\n      <td>0</td>\n      <td>0</td>\n      <td>0</td>\n      <td>0</td>\n      <td>0</td>\n      <td>0</td>\n      <td>74</td>\n    </tr>\n    <tr>\n      <th>146</th>\n      <td>ANA201004060</td>\n      <td>MIN</td>\n      <td>9</td>\n      <td>1</td>\n      <td>1</td>\n      <td>3</td>\n      <td>2</td>\n      <td>.BCFFBBX</td>\n      <td>5</td>\n      <td>3</td>\n      <td>...</td>\n      <td>2</td>\n      <td>5</td>\n      <td>0</td>\n      <td>0</td>\n      <td>0</td>\n      <td>0</td>\n      <td>0</td>\n      <td>0</td>\n      <td>0</td>\n      <td>75</td>\n    </tr>\n    <tr>\n      <th>147</th>\n      <td>ANA201004060</td>\n      <td>MIN</td>\n      <td>9</td>\n      <td>1</td>\n      <td>2</td>\n      <td>2</td>\n      <td>2</td>\n      <td>CBCFBC</td>\n      <td>5</td>\n      <td>3</td>\n      <td>...</td>\n      <td>0</td>\n      <td>2</td>\n      <td>0</td>\n      <td>0</td>\n      <td>0</td>\n      <td>0</td>\n      <td>0</td>\n      <td>0</td>\n      <td>0</td>\n      <td>76</td>\n    </tr>\n  </tbody>\n</table>\n<p>75 rows × 97 columns</p>\n</div>"
     },
     "metadata": {},
     "execution_count": 19
    }
   ],
   "source": [
    "first_game_df = games[first_game]\n",
    "first_game_df"
   ]
  },
  {
   "cell_type": "code",
   "execution_count": 22,
   "metadata": {},
   "outputs": [
    {
     "output_type": "execute_result",
     "data": {
      "text/plain": [
       "73    spand001\n",
       "74    hudso001\n",
       "75    mauej001\n",
       "76    mornj001\n",
       "77    cuddm001\n",
       "78    kubej002\n",
       "79    yound003\n",
       "80    hardj003\n",
       "85    puntn001\n",
       "Name: BAT_ID, dtype: object"
      ]
     },
     "metadata": {},
     "execution_count": 22
    }
   ],
   "source": [
    "first_game_df[first_game_df['BAT_HOME_ID'] == 0]['BAT_ID'][:9]\n"
   ]
  },
  {
   "cell_type": "code",
   "execution_count": 21,
   "metadata": {},
   "outputs": [
    {
     "output_type": "execute_result",
     "data": {
      "text/plain": [
       "81     aybae001\n",
       "82     abreb001\n",
       "83     huntt001\n",
       "84     matsh001\n",
       "89     morak001\n",
       "90     rivej001\n",
       "91     kendh001\n",
       "92     woodb003\n",
       "97     mathj001\n",
       "98     aybae001\n",
       "99     abreb001\n",
       "100    huntt001\n",
       "101    matsh001\n",
       "106    morak001\n",
       "107    rivej001\n",
       "108    kendh001\n",
       "109    woodb003\n",
       "110    mathj001\n",
       "115    aybae001\n",
       "116    abreb001\n",
       "117    huntt001\n",
       "118    matsh001\n",
       "119    morak001\n",
       "120    rivej001\n",
       "126    kendh001\n",
       "127    woodb003\n",
       "128    mathj001\n",
       "132    aybae001\n",
       "133    abreb001\n",
       "134    huntt001\n",
       "135    matsh001\n",
       "139    morak001\n",
       "140    rivej001\n",
       "141    kendh001\n",
       "145    woodb003\n",
       "146    iztum001\n",
       "147    aybae001\n",
       "Name: BAT_ID, dtype: object"
      ]
     },
     "metadata": {},
     "execution_count": 21
    }
   ],
   "source": [
    "first_game_df[first_game_df['BAT_HOME_ID'] == 1]['BAT_ID']"
   ]
  },
  {
   "cell_type": "code",
   "execution_count": 23,
   "metadata": {},
   "outputs": [
    {
     "output_type": "execute_result",
     "data": {
      "text/plain": [
       "dict_values([2, 4])"
      ]
     },
     "metadata": {},
     "execution_count": 23
    }
   ],
   "source": [
    "d = {1: 2, 3: 4}\n",
    "d.values()"
   ]
  },
  {
   "cell_type": "code",
   "execution_count": 24,
   "metadata": {},
   "outputs": [
    {
     "output_type": "execute_result",
     "data": {
      "text/plain": [
       "             GAME_ID AWAY_TEAM_ID  INN_CT  BAT_HOME_ID  OUTS_CT  BALLS_CT  \\\n",
       "0       ANA201004050          MIN       1            0        0         2   \n",
       "1       ANA201004050          MIN       1            0        1         0   \n",
       "2       ANA201004050          MIN       1            0        2         1   \n",
       "3       ANA201004050          MIN       1            1        0         3   \n",
       "4       ANA201004050          MIN       1            1        0         0   \n",
       "...              ...          ...     ...          ...      ...       ...   \n",
       "185548  WAS201009290          PHI       9            0        1         1   \n",
       "185549  WAS201009290          PHI       9            0        2         1   \n",
       "185550  WAS201009290          PHI       9            1        0         2   \n",
       "185551  WAS201009290          PHI       9            1        1         0   \n",
       "185552  WAS201009290          PHI       9            1        2         2   \n",
       "\n",
       "        STRIKES_CT PITCH_SEQ_TX  AWAY_SCORE_CT  HOME_SCORE_CT  ...  \\\n",
       "0                2     CSBFFBFC              0              0  ...   \n",
       "1                1           FX              0              0  ...   \n",
       "2                1          CBX              0              0  ...   \n",
       "3                2   BBCCFBFFFB              0              0  ...   \n",
       "4                1           CX              0              0  ...   \n",
       "...            ...          ...            ...            ...  ...   \n",
       "185548           2         CSBC              7              1  ...   \n",
       "185549           2        .CCBX              7              1  ...   \n",
       "185550           2       .SBSBS              7              1  ...   \n",
       "185551           2          FCX              7              1  ...   \n",
       "185552           2        BCBCX              7              1  ...   \n",
       "\n",
       "       REMOVED_FOR_PH_BAT_FLD_CD PO1_FLD_CD PO2_FLD_CD PO3_FLD_CD ASS1_FLD_CD  \\\n",
       "0                              0          2          0          0           0   \n",
       "1                              0          3          0          0           4   \n",
       "2                              0          3          0          0           4   \n",
       "3                              0          0          0          0           0   \n",
       "4                              0          8          0          0           0   \n",
       "...                          ...        ...        ...        ...         ...   \n",
       "185548                         0          2          0          0           0   \n",
       "185549                         1          3          0          0           5   \n",
       "185550                         0          2          0          0           0   \n",
       "185551                         0          9          0          0           0   \n",
       "185552                         0          8          0          0           0   \n",
       "\n",
       "       ASS2_FLD_CD ASS3_FLD_CD ASS4_FLD_CD ASS5_FLD_CD EVENT_ID  \n",
       "0                0           0           0           0        1  \n",
       "1                0           0           0           0        2  \n",
       "2                0           0           0           0        3  \n",
       "3                0           0           0           0        4  \n",
       "4                0           0           0           0        5  \n",
       "...            ...         ...         ...         ...      ...  \n",
       "185548           0           0           0           0       65  \n",
       "185549           0           0           0           0       66  \n",
       "185550           0           0           0           0       67  \n",
       "185551           0           0           0           0       68  \n",
       "185552           0           0           0           0       69  \n",
       "\n",
       "[185553 rows x 97 columns]"
      ],
      "text/html": "<div>\n<style scoped>\n    .dataframe tbody tr th:only-of-type {\n        vertical-align: middle;\n    }\n\n    .dataframe tbody tr th {\n        vertical-align: top;\n    }\n\n    .dataframe thead th {\n        text-align: right;\n    }\n</style>\n<table border=\"1\" class=\"dataframe\">\n  <thead>\n    <tr style=\"text-align: right;\">\n      <th></th>\n      <th>GAME_ID</th>\n      <th>AWAY_TEAM_ID</th>\n      <th>INN_CT</th>\n      <th>BAT_HOME_ID</th>\n      <th>OUTS_CT</th>\n      <th>BALLS_CT</th>\n      <th>STRIKES_CT</th>\n      <th>PITCH_SEQ_TX</th>\n      <th>AWAY_SCORE_CT</th>\n      <th>HOME_SCORE_CT</th>\n      <th>...</th>\n      <th>REMOVED_FOR_PH_BAT_FLD_CD</th>\n      <th>PO1_FLD_CD</th>\n      <th>PO2_FLD_CD</th>\n      <th>PO3_FLD_CD</th>\n      <th>ASS1_FLD_CD</th>\n      <th>ASS2_FLD_CD</th>\n      <th>ASS3_FLD_CD</th>\n      <th>ASS4_FLD_CD</th>\n      <th>ASS5_FLD_CD</th>\n      <th>EVENT_ID</th>\n    </tr>\n  </thead>\n  <tbody>\n    <tr>\n      <th>0</th>\n      <td>ANA201004050</td>\n      <td>MIN</td>\n      <td>1</td>\n      <td>0</td>\n      <td>0</td>\n      <td>2</td>\n      <td>2</td>\n      <td>CSBFFBFC</td>\n      <td>0</td>\n      <td>0</td>\n      <td>...</td>\n      <td>0</td>\n      <td>2</td>\n      <td>0</td>\n      <td>0</td>\n      <td>0</td>\n      <td>0</td>\n      <td>0</td>\n      <td>0</td>\n      <td>0</td>\n      <td>1</td>\n    </tr>\n    <tr>\n      <th>1</th>\n      <td>ANA201004050</td>\n      <td>MIN</td>\n      <td>1</td>\n      <td>0</td>\n      <td>1</td>\n      <td>0</td>\n      <td>1</td>\n      <td>FX</td>\n      <td>0</td>\n      <td>0</td>\n      <td>...</td>\n      <td>0</td>\n      <td>3</td>\n      <td>0</td>\n      <td>0</td>\n      <td>4</td>\n      <td>0</td>\n      <td>0</td>\n      <td>0</td>\n      <td>0</td>\n      <td>2</td>\n    </tr>\n    <tr>\n      <th>2</th>\n      <td>ANA201004050</td>\n      <td>MIN</td>\n      <td>1</td>\n      <td>0</td>\n      <td>2</td>\n      <td>1</td>\n      <td>1</td>\n      <td>CBX</td>\n      <td>0</td>\n      <td>0</td>\n      <td>...</td>\n      <td>0</td>\n      <td>3</td>\n      <td>0</td>\n      <td>0</td>\n      <td>4</td>\n      <td>0</td>\n      <td>0</td>\n      <td>0</td>\n      <td>0</td>\n      <td>3</td>\n    </tr>\n    <tr>\n      <th>3</th>\n      <td>ANA201004050</td>\n      <td>MIN</td>\n      <td>1</td>\n      <td>1</td>\n      <td>0</td>\n      <td>3</td>\n      <td>2</td>\n      <td>BBCCFBFFFB</td>\n      <td>0</td>\n      <td>0</td>\n      <td>...</td>\n      <td>0</td>\n      <td>0</td>\n      <td>0</td>\n      <td>0</td>\n      <td>0</td>\n      <td>0</td>\n      <td>0</td>\n      <td>0</td>\n      <td>0</td>\n      <td>4</td>\n    </tr>\n    <tr>\n      <th>4</th>\n      <td>ANA201004050</td>\n      <td>MIN</td>\n      <td>1</td>\n      <td>1</td>\n      <td>0</td>\n      <td>0</td>\n      <td>1</td>\n      <td>CX</td>\n      <td>0</td>\n      <td>0</td>\n      <td>...</td>\n      <td>0</td>\n      <td>8</td>\n      <td>0</td>\n      <td>0</td>\n      <td>0</td>\n      <td>0</td>\n      <td>0</td>\n      <td>0</td>\n      <td>0</td>\n      <td>5</td>\n    </tr>\n    <tr>\n      <th>...</th>\n      <td>...</td>\n      <td>...</td>\n      <td>...</td>\n      <td>...</td>\n      <td>...</td>\n      <td>...</td>\n      <td>...</td>\n      <td>...</td>\n      <td>...</td>\n      <td>...</td>\n      <td>...</td>\n      <td>...</td>\n      <td>...</td>\n      <td>...</td>\n      <td>...</td>\n      <td>...</td>\n      <td>...</td>\n      <td>...</td>\n      <td>...</td>\n      <td>...</td>\n      <td>...</td>\n    </tr>\n    <tr>\n      <th>185548</th>\n      <td>WAS201009290</td>\n      <td>PHI</td>\n      <td>9</td>\n      <td>0</td>\n      <td>1</td>\n      <td>1</td>\n      <td>2</td>\n      <td>CSBC</td>\n      <td>7</td>\n      <td>1</td>\n      <td>...</td>\n      <td>0</td>\n      <td>2</td>\n      <td>0</td>\n      <td>0</td>\n      <td>0</td>\n      <td>0</td>\n      <td>0</td>\n      <td>0</td>\n      <td>0</td>\n      <td>65</td>\n    </tr>\n    <tr>\n      <th>185549</th>\n      <td>WAS201009290</td>\n      <td>PHI</td>\n      <td>9</td>\n      <td>0</td>\n      <td>2</td>\n      <td>1</td>\n      <td>2</td>\n      <td>.CCBX</td>\n      <td>7</td>\n      <td>1</td>\n      <td>...</td>\n      <td>1</td>\n      <td>3</td>\n      <td>0</td>\n      <td>0</td>\n      <td>5</td>\n      <td>0</td>\n      <td>0</td>\n      <td>0</td>\n      <td>0</td>\n      <td>66</td>\n    </tr>\n    <tr>\n      <th>185550</th>\n      <td>WAS201009290</td>\n      <td>PHI</td>\n      <td>9</td>\n      <td>1</td>\n      <td>0</td>\n      <td>2</td>\n      <td>2</td>\n      <td>.SBSBS</td>\n      <td>7</td>\n      <td>1</td>\n      <td>...</td>\n      <td>0</td>\n      <td>2</td>\n      <td>0</td>\n      <td>0</td>\n      <td>0</td>\n      <td>0</td>\n      <td>0</td>\n      <td>0</td>\n      <td>0</td>\n      <td>67</td>\n    </tr>\n    <tr>\n      <th>185551</th>\n      <td>WAS201009290</td>\n      <td>PHI</td>\n      <td>9</td>\n      <td>1</td>\n      <td>1</td>\n      <td>0</td>\n      <td>2</td>\n      <td>FCX</td>\n      <td>7</td>\n      <td>1</td>\n      <td>...</td>\n      <td>0</td>\n      <td>9</td>\n      <td>0</td>\n      <td>0</td>\n      <td>0</td>\n      <td>0</td>\n      <td>0</td>\n      <td>0</td>\n      <td>0</td>\n      <td>68</td>\n    </tr>\n    <tr>\n      <th>185552</th>\n      <td>WAS201009290</td>\n      <td>PHI</td>\n      <td>9</td>\n      <td>1</td>\n      <td>2</td>\n      <td>2</td>\n      <td>2</td>\n      <td>BCBCX</td>\n      <td>7</td>\n      <td>1</td>\n      <td>...</td>\n      <td>0</td>\n      <td>8</td>\n      <td>0</td>\n      <td>0</td>\n      <td>0</td>\n      <td>0</td>\n      <td>0</td>\n      <td>0</td>\n      <td>0</td>\n      <td>69</td>\n    </tr>\n  </tbody>\n</table>\n<p>185553 rows × 97 columns</p>\n</div>"
     },
     "metadata": {},
     "execution_count": 24
    }
   ],
   "source": [
    "data"
   ]
  },
  {
   "cell_type": "code",
   "execution_count": 26,
   "metadata": {},
   "outputs": [
    {
     "output_type": "stream",
     "name": "stdout",
     "text": [
      "654 µs ± 4.37 µs per loop (mean ± std. dev. of 7 runs, 1000 loops each)\n"
     ]
    }
   ],
   "source": [
    "%timeit data[['INN_CT', 'BAT_HOME_ID']]"
   ]
  },
  {
   "cell_type": "code",
   "execution_count": 27,
   "metadata": {},
   "outputs": [
    {
     "output_type": "stream",
     "name": "stdout",
     "text": [
      "641 µs ± 3.68 µs per loop (mean ± std. dev. of 7 runs, 1000 loops each)\n"
     ]
    }
   ],
   "source": [
    "%timeit data.loc[:, ['INN_CT', 'BAT_HOME_ID']]"
   ]
  },
  {
   "cell_type": "code",
   "execution_count": 28,
   "metadata": {},
   "outputs": [
    {
     "output_type": "stream",
     "name": "stdout",
     "text": [
      "149 µs ± 815 ns per loop (mean ± std. dev. of 7 runs, 10000 loops each)\n"
     ]
    }
   ],
   "source": [
    "%timeit data.iloc[[1, 2, 3]]"
   ]
  },
  {
   "cell_type": "code",
   "execution_count": 29,
   "metadata": {},
   "outputs": [
    {
     "output_type": "execute_result",
     "data": {
      "text/plain": [
       "        GAME_ID AWAY_TEAM_ID  INN_CT  BAT_HOME_ID  OUTS_CT  BALLS_CT  \\\n",
       "1  ANA201004050          MIN       1            0        1         0   \n",
       "2  ANA201004050          MIN       1            0        2         1   \n",
       "3  ANA201004050          MIN       1            1        0         3   \n",
       "\n",
       "   STRIKES_CT PITCH_SEQ_TX  AWAY_SCORE_CT  HOME_SCORE_CT  ...  \\\n",
       "1           1           FX              0              0  ...   \n",
       "2           1          CBX              0              0  ...   \n",
       "3           2   BBCCFBFFFB              0              0  ...   \n",
       "\n",
       "  REMOVED_FOR_PH_BAT_FLD_CD PO1_FLD_CD PO2_FLD_CD PO3_FLD_CD ASS1_FLD_CD  \\\n",
       "1                         0          3          0          0           4   \n",
       "2                         0          3          0          0           4   \n",
       "3                         0          0          0          0           0   \n",
       "\n",
       "  ASS2_FLD_CD ASS3_FLD_CD ASS4_FLD_CD ASS5_FLD_CD EVENT_ID  \n",
       "1           0           0           0           0        2  \n",
       "2           0           0           0           0        3  \n",
       "3           0           0           0           0        4  \n",
       "\n",
       "[3 rows x 97 columns]"
      ],
      "text/html": "<div>\n<style scoped>\n    .dataframe tbody tr th:only-of-type {\n        vertical-align: middle;\n    }\n\n    .dataframe tbody tr th {\n        vertical-align: top;\n    }\n\n    .dataframe thead th {\n        text-align: right;\n    }\n</style>\n<table border=\"1\" class=\"dataframe\">\n  <thead>\n    <tr style=\"text-align: right;\">\n      <th></th>\n      <th>GAME_ID</th>\n      <th>AWAY_TEAM_ID</th>\n      <th>INN_CT</th>\n      <th>BAT_HOME_ID</th>\n      <th>OUTS_CT</th>\n      <th>BALLS_CT</th>\n      <th>STRIKES_CT</th>\n      <th>PITCH_SEQ_TX</th>\n      <th>AWAY_SCORE_CT</th>\n      <th>HOME_SCORE_CT</th>\n      <th>...</th>\n      <th>REMOVED_FOR_PH_BAT_FLD_CD</th>\n      <th>PO1_FLD_CD</th>\n      <th>PO2_FLD_CD</th>\n      <th>PO3_FLD_CD</th>\n      <th>ASS1_FLD_CD</th>\n      <th>ASS2_FLD_CD</th>\n      <th>ASS3_FLD_CD</th>\n      <th>ASS4_FLD_CD</th>\n      <th>ASS5_FLD_CD</th>\n      <th>EVENT_ID</th>\n    </tr>\n  </thead>\n  <tbody>\n    <tr>\n      <th>1</th>\n      <td>ANA201004050</td>\n      <td>MIN</td>\n      <td>1</td>\n      <td>0</td>\n      <td>1</td>\n      <td>0</td>\n      <td>1</td>\n      <td>FX</td>\n      <td>0</td>\n      <td>0</td>\n      <td>...</td>\n      <td>0</td>\n      <td>3</td>\n      <td>0</td>\n      <td>0</td>\n      <td>4</td>\n      <td>0</td>\n      <td>0</td>\n      <td>0</td>\n      <td>0</td>\n      <td>2</td>\n    </tr>\n    <tr>\n      <th>2</th>\n      <td>ANA201004050</td>\n      <td>MIN</td>\n      <td>1</td>\n      <td>0</td>\n      <td>2</td>\n      <td>1</td>\n      <td>1</td>\n      <td>CBX</td>\n      <td>0</td>\n      <td>0</td>\n      <td>...</td>\n      <td>0</td>\n      <td>3</td>\n      <td>0</td>\n      <td>0</td>\n      <td>4</td>\n      <td>0</td>\n      <td>0</td>\n      <td>0</td>\n      <td>0</td>\n      <td>3</td>\n    </tr>\n    <tr>\n      <th>3</th>\n      <td>ANA201004050</td>\n      <td>MIN</td>\n      <td>1</td>\n      <td>1</td>\n      <td>0</td>\n      <td>3</td>\n      <td>2</td>\n      <td>BBCCFBFFFB</td>\n      <td>0</td>\n      <td>0</td>\n      <td>...</td>\n      <td>0</td>\n      <td>0</td>\n      <td>0</td>\n      <td>0</td>\n      <td>0</td>\n      <td>0</td>\n      <td>0</td>\n      <td>0</td>\n      <td>0</td>\n      <td>4</td>\n    </tr>\n  </tbody>\n</table>\n<p>3 rows × 97 columns</p>\n</div>"
     },
     "metadata": {},
     "execution_count": 29
    }
   ],
   "source": [
    "data.iloc[[1, 2, 3]]"
   ]
  },
  {
   "cell_type": "code",
   "execution_count": 30,
   "metadata": {},
   "outputs": [
    {
     "output_type": "execute_result",
     "data": {
      "text/plain": [
       "   INN_CT  BAT_HOME_ID\n",
       "1       1            0\n",
       "2       1            0\n",
       "3       1            1"
      ],
      "text/html": "<div>\n<style scoped>\n    .dataframe tbody tr th:only-of-type {\n        vertical-align: middle;\n    }\n\n    .dataframe tbody tr th {\n        vertical-align: top;\n    }\n\n    .dataframe thead th {\n        text-align: right;\n    }\n</style>\n<table border=\"1\" class=\"dataframe\">\n  <thead>\n    <tr style=\"text-align: right;\">\n      <th></th>\n      <th>INN_CT</th>\n      <th>BAT_HOME_ID</th>\n    </tr>\n  </thead>\n  <tbody>\n    <tr>\n      <th>1</th>\n      <td>1</td>\n      <td>0</td>\n    </tr>\n    <tr>\n      <th>2</th>\n      <td>1</td>\n      <td>0</td>\n    </tr>\n    <tr>\n      <th>3</th>\n      <td>1</td>\n      <td>1</td>\n    </tr>\n  </tbody>\n</table>\n</div>"
     },
     "metadata": {},
     "execution_count": 30
    }
   ],
   "source": [
    "data[['INN_CT', 'BAT_HOME_ID']].iloc[[1, 2, 3]]"
   ]
  },
  {
   "cell_type": "code",
   "execution_count": 31,
   "metadata": {},
   "outputs": [
    {
     "output_type": "execute_result",
     "data": {
      "text/plain": [
       "array([[1, 0],\n",
       "       [1, 0],\n",
       "       [1, 1]])"
      ]
     },
     "metadata": {},
     "execution_count": 31
    }
   ],
   "source": [
    "data[['INN_CT', 'BAT_HOME_ID']].iloc[[1, 2, 3]].values"
   ]
  },
  {
   "cell_type": "code",
   "execution_count": 49,
   "metadata": {},
   "outputs": [
    {
     "output_type": "execute_result",
     "data": {
      "text/plain": [
       "             GAME_ID AWAY_TEAM_ID  INN_CT  BAT_HOME_ID  OUTS_CT  BALLS_CT  \\\n",
       "0       ANA201004050          MIN       1            0        0         2   \n",
       "1       ANA201004050          MIN       1            0        1         0   \n",
       "2       ANA201004050          MIN       1            0        2         1   \n",
       "3       ANA201004050          MIN       1            1        0         3   \n",
       "4       ANA201004050          MIN       1            1        0         0   \n",
       "...              ...          ...     ...          ...      ...       ...   \n",
       "185548  WAS201009290          PHI       9            0        1         1   \n",
       "185549  WAS201009290          PHI       9            0        2         1   \n",
       "185550  WAS201009290          PHI       9            1        0         2   \n",
       "185551  WAS201009290          PHI       9            1        1         0   \n",
       "185552  WAS201009290          PHI       9            1        2         2   \n",
       "\n",
       "        STRIKES_CT PITCH_SEQ_TX  AWAY_SCORE_CT  HOME_SCORE_CT  ...  \\\n",
       "0                2     CSBFFBFC              0              0  ...   \n",
       "1                1           FX              0              0  ...   \n",
       "2                1          CBX              0              0  ...   \n",
       "3                2   BBCCFBFFFB              0              0  ...   \n",
       "4                1           CX              0              0  ...   \n",
       "...            ...          ...            ...            ...  ...   \n",
       "185548           2         CSBC              7              1  ...   \n",
       "185549           2        .CCBX              7              1  ...   \n",
       "185550           2       .SBSBS              7              1  ...   \n",
       "185551           2          FCX              7              1  ...   \n",
       "185552           2        BCBCX              7              1  ...   \n",
       "\n",
       "        REMOVED_FOR_PH_BAT_FLD_CD PO1_FLD_CD PO2_FLD_CD PO3_FLD_CD  \\\n",
       "0                               0          2          0          0   \n",
       "1                               0          3          0          0   \n",
       "2                               0          3          0          0   \n",
       "3                               0          0          0          0   \n",
       "4                               0          8          0          0   \n",
       "...                           ...        ...        ...        ...   \n",
       "185548                          0          2          0          0   \n",
       "185549                          1          3          0          0   \n",
       "185550                          0          2          0          0   \n",
       "185551                          0          9          0          0   \n",
       "185552                          0          8          0          0   \n",
       "\n",
       "       ASS1_FLD_CD ASS2_FLD_CD ASS3_FLD_CD ASS4_FLD_CD ASS5_FLD_CD EVENT_ID  \n",
       "0                0           0           0           0           0        1  \n",
       "1                4           0           0           0           0        2  \n",
       "2                4           0           0           0           0        3  \n",
       "3                0           0           0           0           0        4  \n",
       "4                0           0           0           0           0        5  \n",
       "...            ...         ...         ...         ...         ...      ...  \n",
       "185548           0           0           0           0           0       65  \n",
       "185549           5           0           0           0           0       66  \n",
       "185550           0           0           0           0           0       67  \n",
       "185551           0           0           0           0           0       68  \n",
       "185552           0           0           0           0           0       69  \n",
       "\n",
       "[185553 rows x 97 columns]"
      ],
      "text/html": "<div>\n<style scoped>\n    .dataframe tbody tr th:only-of-type {\n        vertical-align: middle;\n    }\n\n    .dataframe tbody tr th {\n        vertical-align: top;\n    }\n\n    .dataframe thead th {\n        text-align: right;\n    }\n</style>\n<table border=\"1\" class=\"dataframe\">\n  <thead>\n    <tr style=\"text-align: right;\">\n      <th></th>\n      <th>GAME_ID</th>\n      <th>AWAY_TEAM_ID</th>\n      <th>INN_CT</th>\n      <th>BAT_HOME_ID</th>\n      <th>OUTS_CT</th>\n      <th>BALLS_CT</th>\n      <th>STRIKES_CT</th>\n      <th>PITCH_SEQ_TX</th>\n      <th>AWAY_SCORE_CT</th>\n      <th>HOME_SCORE_CT</th>\n      <th>...</th>\n      <th>REMOVED_FOR_PH_BAT_FLD_CD</th>\n      <th>PO1_FLD_CD</th>\n      <th>PO2_FLD_CD</th>\n      <th>PO3_FLD_CD</th>\n      <th>ASS1_FLD_CD</th>\n      <th>ASS2_FLD_CD</th>\n      <th>ASS3_FLD_CD</th>\n      <th>ASS4_FLD_CD</th>\n      <th>ASS5_FLD_CD</th>\n      <th>EVENT_ID</th>\n    </tr>\n  </thead>\n  <tbody>\n    <tr>\n      <th>0</th>\n      <td>ANA201004050</td>\n      <td>MIN</td>\n      <td>1</td>\n      <td>0</td>\n      <td>0</td>\n      <td>2</td>\n      <td>2</td>\n      <td>CSBFFBFC</td>\n      <td>0</td>\n      <td>0</td>\n      <td>...</td>\n      <td>0</td>\n      <td>2</td>\n      <td>0</td>\n      <td>0</td>\n      <td>0</td>\n      <td>0</td>\n      <td>0</td>\n      <td>0</td>\n      <td>0</td>\n      <td>1</td>\n    </tr>\n    <tr>\n      <th>1</th>\n      <td>ANA201004050</td>\n      <td>MIN</td>\n      <td>1</td>\n      <td>0</td>\n      <td>1</td>\n      <td>0</td>\n      <td>1</td>\n      <td>FX</td>\n      <td>0</td>\n      <td>0</td>\n      <td>...</td>\n      <td>0</td>\n      <td>3</td>\n      <td>0</td>\n      <td>0</td>\n      <td>4</td>\n      <td>0</td>\n      <td>0</td>\n      <td>0</td>\n      <td>0</td>\n      <td>2</td>\n    </tr>\n    <tr>\n      <th>2</th>\n      <td>ANA201004050</td>\n      <td>MIN</td>\n      <td>1</td>\n      <td>0</td>\n      <td>2</td>\n      <td>1</td>\n      <td>1</td>\n      <td>CBX</td>\n      <td>0</td>\n      <td>0</td>\n      <td>...</td>\n      <td>0</td>\n      <td>3</td>\n      <td>0</td>\n      <td>0</td>\n      <td>4</td>\n      <td>0</td>\n      <td>0</td>\n      <td>0</td>\n      <td>0</td>\n      <td>3</td>\n    </tr>\n    <tr>\n      <th>3</th>\n      <td>ANA201004050</td>\n      <td>MIN</td>\n      <td>1</td>\n      <td>1</td>\n      <td>0</td>\n      <td>3</td>\n      <td>2</td>\n      <td>BBCCFBFFFB</td>\n      <td>0</td>\n      <td>0</td>\n      <td>...</td>\n      <td>0</td>\n      <td>0</td>\n      <td>0</td>\n      <td>0</td>\n      <td>0</td>\n      <td>0</td>\n      <td>0</td>\n      <td>0</td>\n      <td>0</td>\n      <td>4</td>\n    </tr>\n    <tr>\n      <th>4</th>\n      <td>ANA201004050</td>\n      <td>MIN</td>\n      <td>1</td>\n      <td>1</td>\n      <td>0</td>\n      <td>0</td>\n      <td>1</td>\n      <td>CX</td>\n      <td>0</td>\n      <td>0</td>\n      <td>...</td>\n      <td>0</td>\n      <td>8</td>\n      <td>0</td>\n      <td>0</td>\n      <td>0</td>\n      <td>0</td>\n      <td>0</td>\n      <td>0</td>\n      <td>0</td>\n      <td>5</td>\n    </tr>\n    <tr>\n      <th>...</th>\n      <td>...</td>\n      <td>...</td>\n      <td>...</td>\n      <td>...</td>\n      <td>...</td>\n      <td>...</td>\n      <td>...</td>\n      <td>...</td>\n      <td>...</td>\n      <td>...</td>\n      <td>...</td>\n      <td>...</td>\n      <td>...</td>\n      <td>...</td>\n      <td>...</td>\n      <td>...</td>\n      <td>...</td>\n      <td>...</td>\n      <td>...</td>\n      <td>...</td>\n      <td>...</td>\n    </tr>\n    <tr>\n      <th>185548</th>\n      <td>WAS201009290</td>\n      <td>PHI</td>\n      <td>9</td>\n      <td>0</td>\n      <td>1</td>\n      <td>1</td>\n      <td>2</td>\n      <td>CSBC</td>\n      <td>7</td>\n      <td>1</td>\n      <td>...</td>\n      <td>0</td>\n      <td>2</td>\n      <td>0</td>\n      <td>0</td>\n      <td>0</td>\n      <td>0</td>\n      <td>0</td>\n      <td>0</td>\n      <td>0</td>\n      <td>65</td>\n    </tr>\n    <tr>\n      <th>185549</th>\n      <td>WAS201009290</td>\n      <td>PHI</td>\n      <td>9</td>\n      <td>0</td>\n      <td>2</td>\n      <td>1</td>\n      <td>2</td>\n      <td>.CCBX</td>\n      <td>7</td>\n      <td>1</td>\n      <td>...</td>\n      <td>1</td>\n      <td>3</td>\n      <td>0</td>\n      <td>0</td>\n      <td>5</td>\n      <td>0</td>\n      <td>0</td>\n      <td>0</td>\n      <td>0</td>\n      <td>66</td>\n    </tr>\n    <tr>\n      <th>185550</th>\n      <td>WAS201009290</td>\n      <td>PHI</td>\n      <td>9</td>\n      <td>1</td>\n      <td>0</td>\n      <td>2</td>\n      <td>2</td>\n      <td>.SBSBS</td>\n      <td>7</td>\n      <td>1</td>\n      <td>...</td>\n      <td>0</td>\n      <td>2</td>\n      <td>0</td>\n      <td>0</td>\n      <td>0</td>\n      <td>0</td>\n      <td>0</td>\n      <td>0</td>\n      <td>0</td>\n      <td>67</td>\n    </tr>\n    <tr>\n      <th>185551</th>\n      <td>WAS201009290</td>\n      <td>PHI</td>\n      <td>9</td>\n      <td>1</td>\n      <td>1</td>\n      <td>0</td>\n      <td>2</td>\n      <td>FCX</td>\n      <td>7</td>\n      <td>1</td>\n      <td>...</td>\n      <td>0</td>\n      <td>9</td>\n      <td>0</td>\n      <td>0</td>\n      <td>0</td>\n      <td>0</td>\n      <td>0</td>\n      <td>0</td>\n      <td>0</td>\n      <td>68</td>\n    </tr>\n    <tr>\n      <th>185552</th>\n      <td>WAS201009290</td>\n      <td>PHI</td>\n      <td>9</td>\n      <td>1</td>\n      <td>2</td>\n      <td>2</td>\n      <td>2</td>\n      <td>BCBCX</td>\n      <td>7</td>\n      <td>1</td>\n      <td>...</td>\n      <td>0</td>\n      <td>8</td>\n      <td>0</td>\n      <td>0</td>\n      <td>0</td>\n      <td>0</td>\n      <td>0</td>\n      <td>0</td>\n      <td>0</td>\n      <td>69</td>\n    </tr>\n  </tbody>\n</table>\n<p>185553 rows × 97 columns</p>\n</div>"
     },
     "metadata": {},
     "execution_count": 49
    }
   ],
   "source": [
    "data"
   ]
  },
  {
   "cell_type": "code",
   "execution_count": 50,
   "metadata": {},
   "outputs": [
    {
     "output_type": "stream",
     "name": "stdout",
     "text": [
      "604 µs ± 2.69 µs per loop (mean ± std. dev. of 7 runs, 1000 loops each)\n"
     ]
    }
   ],
   "source": [
    "%timeit data.iloc[[1, 2, 3, 4, 5]][['AWAY_TEAM_ID', 'INN_CT']]"
   ]
  },
  {
   "cell_type": "code",
   "execution_count": 52,
   "metadata": {},
   "outputs": [
    {
     "output_type": "stream",
     "name": "stdout",
     "text": [
      "671 µs ± 2.54 µs per loop (mean ± std. dev. of 7 runs, 1000 loops each)\n"
     ]
    }
   ],
   "source": [
    "%timeit data.loc[[1, 2, 3, 4, 5]][['AWAY_TEAM_ID', 'INN_CT']]"
   ]
  },
  {
   "cell_type": "code",
   "execution_count": 51,
   "metadata": {},
   "outputs": [
    {
     "output_type": "stream",
     "name": "stdout",
     "text": [
      "1.83 ms ± 6.86 µs per loop (mean ± std. dev. of 7 runs, 1000 loops each)\n"
     ]
    }
   ],
   "source": [
    "%timeit data[['AWAY_TEAM_ID', 'INN_CT']].iloc[[1, 2, 3, 4, 5]]"
   ]
  },
  {
   "cell_type": "code",
   "execution_count": 8,
   "metadata": {},
   "outputs": [
    {
     "output_type": "execute_result",
     "data": {
      "text/plain": [
       "dict_values([1, 2])"
      ]
     },
     "metadata": {},
     "execution_count": 8
    }
   ],
   "source": [
    "nt = {'inn_ct': 1, 'bat_home_id': 2}\n",
    "nt.values()"
   ]
  },
  {
   "cell_type": "code",
   "execution_count": 1,
   "metadata": {},
   "outputs": [
    {
     "output_type": "execute_result",
     "data": {
      "text/plain": [
       "'1.7.0'"
      ]
     },
     "metadata": {},
     "execution_count": 1
    }
   ],
   "source": [
    "import torch\n",
    "torch.__version__"
   ]
  },
  {
   "cell_type": "code",
   "execution_count": 2,
   "metadata": {},
   "outputs": [
    {
     "output_type": "execute_result",
     "data": {
      "text/plain": [
       "tensor([[ 1.4441,  0.4601, -0.2286, -0.8168,  0.5527, -2.2353,  0.1349, -1.2824,\n",
       "         -0.5266],\n",
       "        [ 0.0048, -2.1113, -0.7291,  1.6114,  1.5514,  0.9058, -0.7789, -0.7269,\n",
       "          1.0731],\n",
       "        [ 0.1919, -0.9282,  0.0795,  1.8194,  0.1821,  0.5131,  0.2190,  1.1736,\n",
       "          0.0864],\n",
       "        [ 1.1096,  0.1664,  0.1047, -1.2285, -1.6095, -0.5774, -1.3301,  0.7788,\n",
       "          0.1295]])"
      ]
     },
     "metadata": {},
     "execution_count": 2
    }
   ],
   "source": [
    "a = torch.randn(4, 9)\n",
    "a"
   ]
  },
  {
   "cell_type": "code",
   "execution_count": 40,
   "metadata": {},
   "outputs": [
    {
     "output_type": "execute_result",
     "data": {
      "text/plain": [
       "tensor([8, 1, 1, 4])"
      ]
     },
     "metadata": {},
     "execution_count": 40
    }
   ],
   "source": [
    "b = torch.randint(1, 10, size=(4, ))\n",
    "b"
   ]
  },
  {
   "cell_type": "code",
   "execution_count": 50,
   "metadata": {},
   "outputs": [
    {
     "output_type": "execute_result",
     "data": {
      "text/plain": [
       "tensor([[0., 0., 0., 0., 0., 0., 0., 1., 0.],\n",
       "        [1., 0., 0., 0., 0., 0., 0., 0., 0.],\n",
       "        [1., 0., 0., 0., 0., 0., 0., 0., 0.],\n",
       "        [0., 0., 0., 1., 0., 0., 0., 0., 0.]])"
      ]
     },
     "metadata": {},
     "execution_count": 50
    }
   ],
   "source": [
    "i = 9\n",
    "torch.eye(9)[(b - 1 + i) % 9]"
   ]
  },
  {
   "cell_type": "code",
   "execution_count": 57,
   "metadata": {},
   "outputs": [
    {
     "output_type": "execute_result",
     "data": {
      "text/plain": [
       "tensor([[0., 1., 0., 0., 0., 0., 0., 0., 0.],\n",
       "        [0., 0., 1., 0., 0., 0., 0., 0., 0.]])"
      ]
     },
     "metadata": {},
     "execution_count": 57
    }
   ],
   "source": [
    "torch.eye(9)[[1, 2]]\n"
   ]
  },
  {
   "cell_type": "code",
   "execution_count": 80,
   "metadata": {},
   "outputs": [
    {
     "output_type": "execute_result",
     "data": {
      "text/plain": [
       "tensor([[[0., 0., 0., 0., 0., 0., 0., 0., 1.],\n",
       "         [0., 1., 0., 0., 0., 0., 0., 0., 0.],\n",
       "         [0., 1., 0., 0., 0., 0., 0., 0., 0.],\n",
       "         [0., 0., 0., 0., 1., 0., 0., 0., 0.]],\n",
       "\n",
       "        [[0., 0., 0., 0., 0., 0., 0., 0., 1.],\n",
       "         [0., 1., 0., 0., 0., 0., 0., 0., 0.],\n",
       "         [0., 1., 0., 0., 0., 0., 0., 0., 0.],\n",
       "         [0., 0., 0., 0., 1., 0., 0., 0., 0.]]])"
      ]
     },
     "metadata": {},
     "execution_count": 80
    }
   ],
   "source": [
    "torch.eye(9).unsqueeze(0).repeat(2, 1, 1)[:, b]"
   ]
  },
  {
   "cell_type": "code",
   "execution_count": 82,
   "metadata": {},
   "outputs": [
    {
     "output_type": "execute_result",
     "data": {
      "text/plain": [
       "tensor([[81, 20, 69, 55, 50, 98, 71, 17, 15],\n",
       "        [18, 98, 13, 18, 86, 34, 26, 16, 68],\n",
       "        [39, 28, 59, 76, 23, 59,  2, 22, 44],\n",
       "        [60, 11, 55, 44, 51, 84, 25, 88, 53]])"
      ]
     },
     "metadata": {},
     "execution_count": 82
    }
   ],
   "source": [
    "bats = torch.randint(1, 100, size=(4, 9))\n",
    "bats"
   ]
  },
  {
   "cell_type": "code",
   "execution_count": 112,
   "metadata": {},
   "outputs": [
    {
     "output_type": "execute_result",
     "data": {
      "text/plain": [
       "tensor([[18, 20],\n",
       "        [39, 11]])"
      ]
     },
     "metadata": {},
     "execution_count": 112
    }
   ],
   "source": [
    "bats.gather(0, torch.tensor([[1, 0], [2, 3]]))"
   ]
  },
  {
   "cell_type": "code",
   "execution_count": 90,
   "metadata": {},
   "outputs": [
    {
     "output_type": "execute_result",
     "data": {
      "text/plain": [
       "tensor([[81, 20],\n",
       "        [13, 18]])"
      ]
     },
     "metadata": {},
     "execution_count": 90
    }
   ],
   "source": [
    "torch.gather(bats, 1, torch.tensor([[0, 1], [2, 3]]))"
   ]
  },
  {
   "cell_type": "code",
   "execution_count": 92,
   "metadata": {},
   "outputs": [
    {
     "output_type": "execute_result",
     "data": {
      "text/plain": [
       "tensor([0, 1, 2, 3, 4, 5, 6, 7, 8, 9])"
      ]
     },
     "metadata": {},
     "execution_count": 92
    }
   ],
   "source": [
    "torch.arange(0, 10)"
   ]
  },
  {
   "cell_type": "code",
   "execution_count": 102,
   "metadata": {},
   "outputs": [
    {
     "output_type": "execute_result",
     "data": {
      "text/plain": [
       "tensor([8, 1, 1, 4])"
      ]
     },
     "metadata": {},
     "execution_count": 102
    }
   ],
   "source": [
    "b"
   ]
  },
  {
   "cell_type": "code",
   "execution_count": 103,
   "metadata": {},
   "outputs": [
    {
     "output_type": "execute_result",
     "data": {
      "text/plain": [
       "tensor([[8],\n",
       "        [1],\n",
       "        [1],\n",
       "        [4]])"
      ]
     },
     "metadata": {},
     "execution_count": 103
    }
   ],
   "source": [
    "b = b.unsqueeze(1)\n",
    "b"
   ]
  },
  {
   "cell_type": "code",
   "execution_count": 105,
   "metadata": {},
   "outputs": [
    {
     "output_type": "execute_result",
     "data": {
      "text/plain": [
       "tensor([[8, 0],\n",
       "        [1, 2],\n",
       "        [1, 2],\n",
       "        [4, 5]])"
      ]
     },
     "metadata": {},
     "execution_count": 105
    }
   ],
   "source": [
    "bb = torch.cat([b, (b + 1) % 9], 1)\n",
    "bb"
   ]
  },
  {
   "cell_type": "code",
   "execution_count": 106,
   "metadata": {},
   "outputs": [
    {
     "output_type": "execute_result",
     "data": {
      "text/plain": [
       "tensor([[15, 81],\n",
       "        [98, 13],\n",
       "        [28, 59],\n",
       "        [51, 84]])"
      ]
     },
     "metadata": {},
     "execution_count": 106
    }
   ],
   "source": [
    "i = 0\n",
    "torch.gather(bats, 1, bb)"
   ]
  },
  {
   "cell_type": "code",
   "execution_count": null,
   "metadata": {},
   "outputs": [],
   "source": []
  }
 ]
}